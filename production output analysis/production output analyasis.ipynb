{
 "cells": [
  {
   "cell_type": "markdown",
   "id": "865b6ab6",
   "metadata": {},
   "source": [
    "#  Final Production Analysis For June 2020\n"
   ]
  },
  {
   "cell_type": "markdown",
   "id": "aefff071",
   "metadata": {},
   "source": [
    "## 1) Respule  production output of June as compared to previous month"
   ]
  },
  {
   "cell_type": "code",
   "execution_count": 3,
   "id": "8dcd33f1",
   "metadata": {},
   "outputs": [
    {
     "data": {
      "text/html": [
       "<div>\n",
       "<style scoped>\n",
       "    .dataframe tbody tr th:only-of-type {\n",
       "        vertical-align: middle;\n",
       "    }\n",
       "\n",
       "    .dataframe tbody tr th {\n",
       "        vertical-align: top;\n",
       "    }\n",
       "\n",
       "    .dataframe thead th {\n",
       "        text-align: right;\n",
       "    }\n",
       "</style>\n",
       "<table border=\"1\" class=\"dataframe\">\n",
       "  <thead>\n",
       "    <tr style=\"text-align: right;\">\n",
       "      <th></th>\n",
       "      <th>Machine Bottle Pack</th>\n",
       "      <th>standard output per month</th>\n",
       "      <th>current output per month june 2020</th>\n",
       "      <th>Previous output per month june 2019</th>\n",
       "    </tr>\n",
       "  </thead>\n",
       "  <tbody>\n",
       "    <tr>\n",
       "      <th>0</th>\n",
       "      <td>360</td>\n",
       "      <td>2840400</td>\n",
       "      <td>2338051</td>\n",
       "      <td>2495260</td>\n",
       "    </tr>\n",
       "    <tr>\n",
       "      <th>1</th>\n",
       "      <td>305 (Respules)</td>\n",
       "      <td>4800000</td>\n",
       "      <td>4305475</td>\n",
       "      <td>4197715</td>\n",
       "    </tr>\n",
       "    <tr>\n",
       "      <th>2</th>\n",
       "      <td>3012 (5 ml E/D)</td>\n",
       "      <td>1800000</td>\n",
       "      <td>1002000</td>\n",
       "      <td>790970</td>\n",
       "    </tr>\n",
       "    <tr>\n",
       "      <th>3</th>\n",
       "      <td>3012 (10ml E/D)</td>\n",
       "      <td>1838160</td>\n",
       "      <td>270110</td>\n",
       "      <td>430600</td>\n",
       "    </tr>\n",
       "    <tr>\n",
       "      <th>4</th>\n",
       "      <td>3012 (Respules)</td>\n",
       "      <td>2550000</td>\n",
       "      <td>542745</td>\n",
       "      <td>428490</td>\n",
       "    </tr>\n",
       "  </tbody>\n",
       "</table>\n",
       "</div>"
      ],
      "text/plain": [
       "  Machine Bottle Pack  standard output per month  \\\n",
       "0                 360                    2840400   \n",
       "1      305 (Respules)                    4800000   \n",
       "2     3012 (5 ml E/D)                    1800000   \n",
       "3     3012 (10ml E/D)                    1838160   \n",
       "4     3012 (Respules)                    2550000   \n",
       "\n",
       "   current output per month june 2020  Previous output per month june 2019  \n",
       "0                             2338051                              2495260  \n",
       "1                             4305475                              4197715  \n",
       "2                             1002000                               790970  \n",
       "3                              270110                               430600  \n",
       "4                              542745                               428490  "
      ]
     },
     "metadata": {},
     "output_type": "display_data"
    }
   ],
   "source": [
    "# Import pandas\n",
    "import pandas as pd\n",
    "from matplotlib import pyplot as plt\n",
    "# Load the CSV data into DataFrames\n",
    "PROD_OUTPUT_RESPULE= pd.read_csv(\"dataset/production output respule.csv\")\n",
    "display(PROD_OUTPUT_RESPULE)"
   ]
  },
  {
   "cell_type": "code",
   "execution_count": 2,
   "id": "98c96d2f",
   "metadata": {
    "scrolled": true
   },
   "outputs": [
    {
     "data": {
      "text/html": [
       "<div>\n",
       "<style scoped>\n",
       "    .dataframe tbody tr th:only-of-type {\n",
       "        vertical-align: middle;\n",
       "    }\n",
       "\n",
       "    .dataframe tbody tr th {\n",
       "        vertical-align: top;\n",
       "    }\n",
       "\n",
       "    .dataframe thead th {\n",
       "        text-align: right;\n",
       "    }\n",
       "</style>\n",
       "<table border=\"1\" class=\"dataframe\">\n",
       "  <thead>\n",
       "    <tr style=\"text-align: right;\">\n",
       "      <th></th>\n",
       "      <th>Machine_Bottle_Pack</th>\n",
       "      <th>standard_output_per_month</th>\n",
       "      <th>current_output_per_month_june_2020</th>\n",
       "      <th>Previous_output_per_month_june_2019</th>\n",
       "    </tr>\n",
       "  </thead>\n",
       "  <tbody>\n",
       "    <tr>\n",
       "      <th>0</th>\n",
       "      <td>360</td>\n",
       "      <td>2840400</td>\n",
       "      <td>2338051</td>\n",
       "      <td>2495260</td>\n",
       "    </tr>\n",
       "    <tr>\n",
       "      <th>1</th>\n",
       "      <td>305 (Respules)</td>\n",
       "      <td>4800000</td>\n",
       "      <td>4305475</td>\n",
       "      <td>4197715</td>\n",
       "    </tr>\n",
       "    <tr>\n",
       "      <th>2</th>\n",
       "      <td>3012 (5 ml E/D)</td>\n",
       "      <td>1800000</td>\n",
       "      <td>1002000</td>\n",
       "      <td>790970</td>\n",
       "    </tr>\n",
       "    <tr>\n",
       "      <th>3</th>\n",
       "      <td>3012 (10ml E/D)</td>\n",
       "      <td>1838160</td>\n",
       "      <td>270110</td>\n",
       "      <td>430600</td>\n",
       "    </tr>\n",
       "    <tr>\n",
       "      <th>4</th>\n",
       "      <td>3012 (Respules)</td>\n",
       "      <td>2550000</td>\n",
       "      <td>542745</td>\n",
       "      <td>428490</td>\n",
       "    </tr>\n",
       "  </tbody>\n",
       "</table>\n",
       "</div>"
      ],
      "text/plain": [
       "  Machine_Bottle_Pack  standard_output_per_month  \\\n",
       "0                 360                    2840400   \n",
       "1      305 (Respules)                    4800000   \n",
       "2     3012 (5 ml E/D)                    1800000   \n",
       "3     3012 (10ml E/D)                    1838160   \n",
       "4     3012 (Respules)                    2550000   \n",
       "\n",
       "   current_output_per_month_june_2020  Previous_output_per_month_june_2019  \n",
       "0                             2338051                              2495260  \n",
       "1                             4305475                              4197715  \n",
       "2                             1002000                               790970  \n",
       "3                              270110                               430600  \n",
       "4                              542745                               428490  "
      ]
     },
     "metadata": {},
     "output_type": "display_data"
    }
   ],
   "source": [
    "PROD_OUTPUT_RESPULE.columns = PROD_OUTPUT_RESPULE.columns.str.replace(' ','_')\n",
    "display(PROD_OUTPUT_RESPULE)"
   ]
  },
  {
   "cell_type": "markdown",
   "id": "01653fe7",
   "metadata": {},
   "source": [
    "###  Comparing our output against the standard"
   ]
  },
  {
   "cell_type": "code",
   "execution_count": 71,
   "id": "2c1073d1",
   "metadata": {},
   "outputs": [
    {
     "data": {
      "text/plain": [
       "<AxesSubplot:xlabel='Machine_Bottle_Pack'>"
      ]
     },
     "execution_count": 71,
     "metadata": {},
     "output_type": "execute_result"
    },
    {
     "data": {
      "image/png": "[encoded data removed]",
      "text/plain": [
       "<Figure size 720x720 with 1 Axes>"
      ]
     },
     "metadata": {
      "needs_background": "light"
     },
     "output_type": "display_data"
    }
   ],
   "source": [
    "PROD_OUTPUT_RESPULE.plot(x=\"Machine_Bottle_Pack\", y=[\"standard_output_per_month\", \"current_output_per_month_june_2020\", \"Previous_output_per_month_june_2019\"],kind=\"bar\",grid =True,ylim=[0,6000000],figsize=(10,10))\n"
   ]
  },
  {
   "cell_type": "markdown",
   "id": "6c54fcbc",
   "metadata": {},
   "source": [
    "## Respule Net Yield Achieved"
   ]
  },
  {
   "cell_type": "code",
   "execution_count": 4,
   "id": "f328d9a7",
   "metadata": {},
   "outputs": [
    {
     "data": {
      "text/html": [
       "<div>\n",
       "<style scoped>\n",
       "    .dataframe tbody tr th:only-of-type {\n",
       "        vertical-align: middle;\n",
       "    }\n",
       "\n",
       "    .dataframe tbody tr th {\n",
       "        vertical-align: top;\n",
       "    }\n",
       "\n",
       "    .dataframe thead th {\n",
       "        text-align: right;\n",
       "    }\n",
       "</style>\n",
       "<table border=\"1\" class=\"dataframe\">\n",
       "  <thead>\n",
       "    <tr style=\"text-align: right;\">\n",
       "      <th></th>\n",
       "      <th>M/C</th>\n",
       "      <th>Standard net yield %</th>\n",
       "      <th>Total number of batches</th>\n",
       "      <th>Net Yield Achieved As per standard &amp; more (batches)</th>\n",
       "      <th>Net yield Achieved within 2% less than standard (batches)</th>\n",
       "      <th>Net yield Achieved within 4% less than standard (batches)</th>\n",
       "      <th>average yield</th>\n",
       "    </tr>\n",
       "  </thead>\n",
       "  <tbody>\n",
       "    <tr>\n",
       "      <th>0</th>\n",
       "      <td>360 (100ml)</td>\n",
       "      <td>97%</td>\n",
       "      <td>NaN</td>\n",
       "      <td>NaN</td>\n",
       "      <td>NaN</td>\n",
       "      <td>NaN</td>\n",
       "      <td>NaN</td>\n",
       "    </tr>\n",
       "    <tr>\n",
       "      <th>1</th>\n",
       "      <td>360 (300ml)</td>\n",
       "      <td>97%</td>\n",
       "      <td>4.0</td>\n",
       "      <td>4.0</td>\n",
       "      <td>NaN</td>\n",
       "      <td>NaN</td>\n",
       "      <td>98.88%</td>\n",
       "    </tr>\n",
       "    <tr>\n",
       "      <th>2</th>\n",
       "      <td>360 (100ml)</td>\n",
       "      <td>97%</td>\n",
       "      <td>183.0</td>\n",
       "      <td>183.0</td>\n",
       "      <td>NaN</td>\n",
       "      <td>NaN</td>\n",
       "      <td>99.27%</td>\n",
       "    </tr>\n",
       "    <tr>\n",
       "      <th>3</th>\n",
       "      <td>305 (2.0ml/2.5ml)</td>\n",
       "      <td>97%</td>\n",
       "      <td>40.0</td>\n",
       "      <td>40.0</td>\n",
       "      <td>NaN</td>\n",
       "      <td>NaN</td>\n",
       "      <td>96.50%</td>\n",
       "    </tr>\n",
       "    <tr>\n",
       "      <th>4</th>\n",
       "      <td>3012 (2.0ml/2.5ml)</td>\n",
       "      <td>97%</td>\n",
       "      <td>5.0</td>\n",
       "      <td>5.0</td>\n",
       "      <td>NaN</td>\n",
       "      <td>NaN</td>\n",
       "      <td>97.10%</td>\n",
       "    </tr>\n",
       "    <tr>\n",
       "      <th>5</th>\n",
       "      <td>3012 (5ml/10ml)</td>\n",
       "      <td>97%</td>\n",
       "      <td>27.0</td>\n",
       "      <td>21.0</td>\n",
       "      <td>1.0</td>\n",
       "      <td>5.0</td>\n",
       "      <td>97.09%</td>\n",
       "    </tr>\n",
       "  </tbody>\n",
       "</table>\n",
       "</div>"
      ],
      "text/plain": [
       "                  M/C Standard net yield %  Total number of batches  \\\n",
       "0         360 (100ml)                  97%                      NaN   \n",
       "1         360 (300ml)                  97%                      4.0   \n",
       "2         360 (100ml)                  97%                    183.0   \n",
       "3   305 (2.0ml/2.5ml)                  97%                     40.0   \n",
       "4  3012 (2.0ml/2.5ml)                  97%                      5.0   \n",
       "5     3012 (5ml/10ml)                  97%                     27.0   \n",
       "\n",
       "   Net Yield Achieved As per standard & more (batches)  \\\n",
       "0                                                NaN     \n",
       "1                                                4.0     \n",
       "2                                              183.0     \n",
       "3                                               40.0     \n",
       "4                                                5.0     \n",
       "5                                               21.0     \n",
       "\n",
       "   Net yield Achieved within 2% less than standard (batches)  \\\n",
       "0                                                NaN           \n",
       "1                                                NaN           \n",
       "2                                                NaN           \n",
       "3                                                NaN           \n",
       "4                                                NaN           \n",
       "5                                                1.0           \n",
       "\n",
       "   Net yield Achieved within 4% less than standard (batches) average yield  \n",
       "0                                                NaN                   NaN  \n",
       "1                                                NaN                98.88%  \n",
       "2                                                NaN                99.27%  \n",
       "3                                                NaN                96.50%  \n",
       "4                                                NaN                97.10%  \n",
       "5                                                5.0                97.09%  "
      ]
     },
     "metadata": {},
     "output_type": "display_data"
    }
   ],
   "source": [
    "net_yield_respule= pd.read_csv(\"dataset/net yield respule(production).csv\")\n",
    "display(net_yield_respule)"
   ]
  },
  {
   "cell_type": "code",
   "execution_count": 5,
   "id": "bd1bc6c8",
   "metadata": {},
   "outputs": [
    {
     "data": {
      "text/html": [
       "<div>\n",
       "<style scoped>\n",
       "    .dataframe tbody tr th:only-of-type {\n",
       "        vertical-align: middle;\n",
       "    }\n",
       "\n",
       "    .dataframe tbody tr th {\n",
       "        vertical-align: top;\n",
       "    }\n",
       "\n",
       "    .dataframe thead th {\n",
       "        text-align: right;\n",
       "    }\n",
       "</style>\n",
       "<table border=\"1\" class=\"dataframe\">\n",
       "  <thead>\n",
       "    <tr style=\"text-align: right;\">\n",
       "      <th></th>\n",
       "      <th>M/C</th>\n",
       "      <th>Standard_net_yield_%</th>\n",
       "      <th>Total_number_of_batches</th>\n",
       "      <th>Net_Yield_Achieved_As_per_standard_&amp;_more_(batches)</th>\n",
       "      <th>Net_yield_Achieved_within_2%_less_than_standard_(batches)</th>\n",
       "      <th>Net_yield_Achieved_within_4%_less_than_standard_(batches)</th>\n",
       "      <th>average_yield</th>\n",
       "    </tr>\n",
       "  </thead>\n",
       "  <tbody>\n",
       "    <tr>\n",
       "      <th>0</th>\n",
       "      <td>360 (100ml)</td>\n",
       "      <td>97%</td>\n",
       "      <td>NaN</td>\n",
       "      <td>NaN</td>\n",
       "      <td>NaN</td>\n",
       "      <td>NaN</td>\n",
       "      <td>NaN</td>\n",
       "    </tr>\n",
       "    <tr>\n",
       "      <th>1</th>\n",
       "      <td>360 (300ml)</td>\n",
       "      <td>97%</td>\n",
       "      <td>4.0</td>\n",
       "      <td>4.0</td>\n",
       "      <td>NaN</td>\n",
       "      <td>NaN</td>\n",
       "      <td>98.88%</td>\n",
       "    </tr>\n",
       "    <tr>\n",
       "      <th>2</th>\n",
       "      <td>360 (100ml)</td>\n",
       "      <td>97%</td>\n",
       "      <td>183.0</td>\n",
       "      <td>183.0</td>\n",
       "      <td>NaN</td>\n",
       "      <td>NaN</td>\n",
       "      <td>99.27%</td>\n",
       "    </tr>\n",
       "    <tr>\n",
       "      <th>3</th>\n",
       "      <td>305 (2.0ml/2.5ml)</td>\n",
       "      <td>97%</td>\n",
       "      <td>40.0</td>\n",
       "      <td>40.0</td>\n",
       "      <td>NaN</td>\n",
       "      <td>NaN</td>\n",
       "      <td>96.50%</td>\n",
       "    </tr>\n",
       "    <tr>\n",
       "      <th>4</th>\n",
       "      <td>3012 (2.0ml/2.5ml)</td>\n",
       "      <td>97%</td>\n",
       "      <td>5.0</td>\n",
       "      <td>5.0</td>\n",
       "      <td>NaN</td>\n",
       "      <td>NaN</td>\n",
       "      <td>97.10%</td>\n",
       "    </tr>\n",
       "    <tr>\n",
       "      <th>5</th>\n",
       "      <td>3012 (5ml/10ml)</td>\n",
       "      <td>97%</td>\n",
       "      <td>27.0</td>\n",
       "      <td>21.0</td>\n",
       "      <td>1.0</td>\n",
       "      <td>5.0</td>\n",
       "      <td>97.09%</td>\n",
       "    </tr>\n",
       "  </tbody>\n",
       "</table>\n",
       "</div>"
      ],
      "text/plain": [
       "                  M/C Standard_net_yield_%  Total_number_of_batches  \\\n",
       "0         360 (100ml)                  97%                      NaN   \n",
       "1         360 (300ml)                  97%                      4.0   \n",
       "2         360 (100ml)                  97%                    183.0   \n",
       "3   305 (2.0ml/2.5ml)                  97%                     40.0   \n",
       "4  3012 (2.0ml/2.5ml)                  97%                      5.0   \n",
       "5     3012 (5ml/10ml)                  97%                     27.0   \n",
       "\n",
       "   Net_Yield_Achieved_As_per_standard_&_more_(batches)  \\\n",
       "0                                                NaN     \n",
       "1                                                4.0     \n",
       "2                                              183.0     \n",
       "3                                               40.0     \n",
       "4                                                5.0     \n",
       "5                                               21.0     \n",
       "\n",
       "   Net_yield_Achieved_within_2%_less_than_standard_(batches)  \\\n",
       "0                                                NaN           \n",
       "1                                                NaN           \n",
       "2                                                NaN           \n",
       "3                                                NaN           \n",
       "4                                                NaN           \n",
       "5                                                1.0           \n",
       "\n",
       "   Net_yield_Achieved_within_4%_less_than_standard_(batches) average_yield  \n",
       "0                                                NaN                   NaN  \n",
       "1                                                NaN                98.88%  \n",
       "2                                                NaN                99.27%  \n",
       "3                                                NaN                96.50%  \n",
       "4                                                NaN                97.10%  \n",
       "5                                                5.0                97.09%  "
      ]
     },
     "metadata": {},
     "output_type": "display_data"
    }
   ],
   "source": [
    "net_yield_respule.columns = net_yield_respule.columns.str.replace(' ','_')\n",
    "display(net_yield_respule)"
   ]
  },
  {
   "cell_type": "code",
   "execution_count": 6,
   "id": "2c1e1923",
   "metadata": {},
   "outputs": [
    {
     "data": {
      "text/plain": [
       "<AxesSubplot:xlabel='M/C'>"
      ]
     },
     "execution_count": 6,
     "metadata": {},
     "output_type": "execute_result"
    },
    {
     "data": {
      "image/png": "[encoded data removed]",
      "text/plain": [
       "<Figure size 1440x720 with 1 Axes>"
      ]
     },
     "metadata": {
      "needs_background": "light"
     },
     "output_type": "display_data"
    }
   ],
   "source": [
    "net_yield_respule.plot(x=\"M/C\", y=[\"Total_number_of_batches\", \"Net_Yield_Achieved_As_per_standard_&_more_(batches)\", \"Net_yield_Achieved_within_2%_less_than_standard_(batches)\",\"Net_yield_Achieved_within_4%_less_than_standard_(batches)\"],kind=\"bar\",ylim=[0,200],figsize=(20,10),grid =True)"
   ]
  },
  {
   "cell_type": "markdown",
   "id": "d451a1d9",
   "metadata": {},
   "source": [
    "## 2) Glucose  production output of June as compared to previous Year"
   ]
  },
  {
   "cell_type": "code",
   "execution_count": 7,
   "id": "00418654",
   "metadata": {},
   "outputs": [
    {
     "data": {
      "text/html": [
       "<div>\n",
       "<style scoped>\n",
       "    .dataframe tbody tr th:only-of-type {\n",
       "        vertical-align: middle;\n",
       "    }\n",
       "\n",
       "    .dataframe tbody tr th {\n",
       "        vertical-align: top;\n",
       "    }\n",
       "\n",
       "    .dataframe thead th {\n",
       "        text-align: right;\n",
       "    }\n",
       "</style>\n",
       "<table border=\"1\" class=\"dataframe\">\n",
       "  <thead>\n",
       "    <tr style=\"text-align: right;\">\n",
       "      <th></th>\n",
       "      <th>Machine Bottle Pack</th>\n",
       "      <th>standard output per month</th>\n",
       "      <th>current output per month 2020</th>\n",
       "      <th>previous year output june 2019</th>\n",
       "    </tr>\n",
       "  </thead>\n",
       "  <tbody>\n",
       "    <tr>\n",
       "      <th>0</th>\n",
       "      <td>303A</td>\n",
       "      <td>1800000</td>\n",
       "      <td>1699116</td>\n",
       "      <td>913860.0</td>\n",
       "    </tr>\n",
       "    <tr>\n",
       "      <th>1</th>\n",
       "      <td>303B(1000 ml)</td>\n",
       "      <td>637920</td>\n",
       "      <td>396935</td>\n",
       "      <td>NaN</td>\n",
       "    </tr>\n",
       "    <tr>\n",
       "      <th>2</th>\n",
       "      <td>303B(500ml)</td>\n",
       "      <td>660000</td>\n",
       "      <td>50150</td>\n",
       "      <td>571044.0</td>\n",
       "    </tr>\n",
       "    <tr>\n",
       "      <th>3</th>\n",
       "      <td>303B(300ml)</td>\n",
       "      <td>674640</td>\n",
       "      <td>14750</td>\n",
       "      <td>22940.0</td>\n",
       "    </tr>\n",
       "    <tr>\n",
       "      <th>4</th>\n",
       "      <td>303B(250ml)</td>\n",
       "      <td>684000</td>\n",
       "      <td>46810</td>\n",
       "      <td>6500.0</td>\n",
       "    </tr>\n",
       "  </tbody>\n",
       "</table>\n",
       "</div>"
      ],
      "text/plain": [
       "  Machine Bottle Pack  standard output per month  \\\n",
       "0                303A                    1800000   \n",
       "1       303B(1000 ml)                     637920   \n",
       "2         303B(500ml)                     660000   \n",
       "3         303B(300ml)                     674640   \n",
       "4         303B(250ml)                     684000   \n",
       "\n",
       "   current output per month 2020  previous year output june 2019  \n",
       "0                        1699116                        913860.0  \n",
       "1                         396935                             NaN  \n",
       "2                          50150                        571044.0  \n",
       "3                          14750                         22940.0  \n",
       "4                          46810                          6500.0  "
      ]
     },
     "metadata": {},
     "output_type": "display_data"
    }
   ],
   "source": [
    "PROD_OUTPUT_GLUCOSE= pd.read_csv(\"dataset/production output glucose.csv\")\n",
    "display(PROD_OUTPUT_GLUCOSE)"
   ]
  },
  {
   "cell_type": "code",
   "execution_count": 8,
   "id": "65972e7a",
   "metadata": {},
   "outputs": [
    {
     "data": {
      "text/html": [
       "<div>\n",
       "<style scoped>\n",
       "    .dataframe tbody tr th:only-of-type {\n",
       "        vertical-align: middle;\n",
       "    }\n",
       "\n",
       "    .dataframe tbody tr th {\n",
       "        vertical-align: top;\n",
       "    }\n",
       "\n",
       "    .dataframe thead th {\n",
       "        text-align: right;\n",
       "    }\n",
       "</style>\n",
       "<table border=\"1\" class=\"dataframe\">\n",
       "  <thead>\n",
       "    <tr style=\"text-align: right;\">\n",
       "      <th></th>\n",
       "      <th>Machine_Bottle_Pack</th>\n",
       "      <th>standard_output_per_month</th>\n",
       "      <th>current_output_per_month_june_2020</th>\n",
       "      <th>Previous_output_per_month_june_2019</th>\n",
       "    </tr>\n",
       "  </thead>\n",
       "  <tbody>\n",
       "    <tr>\n",
       "      <th>0</th>\n",
       "      <td>303A</td>\n",
       "      <td>1800000</td>\n",
       "      <td>1699116</td>\n",
       "      <td>913860.0</td>\n",
       "    </tr>\n",
       "    <tr>\n",
       "      <th>1</th>\n",
       "      <td>303B(1000 ml)</td>\n",
       "      <td>637920</td>\n",
       "      <td>396935</td>\n",
       "      <td>NaN</td>\n",
       "    </tr>\n",
       "    <tr>\n",
       "      <th>2</th>\n",
       "      <td>303B(500ml)</td>\n",
       "      <td>660000</td>\n",
       "      <td>50150</td>\n",
       "      <td>571044.0</td>\n",
       "    </tr>\n",
       "    <tr>\n",
       "      <th>3</th>\n",
       "      <td>303B(300ml)</td>\n",
       "      <td>674640</td>\n",
       "      <td>14750</td>\n",
       "      <td>22940.0</td>\n",
       "    </tr>\n",
       "    <tr>\n",
       "      <th>4</th>\n",
       "      <td>303B(250ml)</td>\n",
       "      <td>684000</td>\n",
       "      <td>46810</td>\n",
       "      <td>6500.0</td>\n",
       "    </tr>\n",
       "  </tbody>\n",
       "</table>\n",
       "</div>"
      ],
      "text/plain": [
       "  Machine_Bottle_Pack  standard_output_per_month  \\\n",
       "0                303A                    1800000   \n",
       "1       303B(1000 ml)                     637920   \n",
       "2         303B(500ml)                     660000   \n",
       "3         303B(300ml)                     674640   \n",
       "4         303B(250ml)                     684000   \n",
       "\n",
       "   current_output_per_month_june_2020  Previous_output_per_month_june_2019  \n",
       "0                             1699116                             913860.0  \n",
       "1                              396935                                  NaN  \n",
       "2                               50150                             571044.0  \n",
       "3                               14750                              22940.0  \n",
       "4                               46810                               6500.0  "
      ]
     },
     "metadata": {},
     "output_type": "display_data"
    }
   ],
   "source": [
    "PROD_OUTPUT_GLUCOSE.columns = PROD_OUTPUT_RESPULE.columns.str.replace(' ','_')\n",
    "display(PROD_OUTPUT_GLUCOSE)"
   ]
  },
  {
   "cell_type": "markdown",
   "id": "94a99bed",
   "metadata": {},
   "source": [
    "###  Comparing our output against the standard"
   ]
  },
  {
   "cell_type": "code",
   "execution_count": 69,
   "id": "4d02a468",
   "metadata": {
    "scrolled": false
   },
   "outputs": [
    {
     "data": {
      "text/plain": [
       "<AxesSubplot:xlabel='Machine_Bottle_Pack'>"
      ]
     },
     "execution_count": 69,
     "metadata": {},
     "output_type": "execute_result"
    },
    {
     "data": {
      "image/png": "[encoded data removed]",
      "text/plain": [
       "<Figure size 1440x720 with 1 Axes>"
      ]
     },
     "metadata": {
      "needs_background": "light"
     },
     "output_type": "display_data"
    }
   ],
   "source": [
    "PROD_OUTPUT_GLUCOSE.plot(x=\"Machine_Bottle_Pack\", y=[\"standard_output_per_month\", \"current_output_per_month_june_2020\", \"Previous_output_per_month_june_2019\"],kind=\"bar\",ylim=[0,2000000],grid =True,figsize=(20,10))"
   ]
  },
  {
   "cell_type": "markdown",
   "id": "188bf266",
   "metadata": {},
   "source": [
    "## Glucose Net Yield Achieved"
   ]
  },
  {
   "cell_type": "code",
   "execution_count": 10,
   "id": "1508cf6a",
   "metadata": {
    "scrolled": true
   },
   "outputs": [
    {
     "data": {
      "text/html": [
       "<div>\n",
       "<style scoped>\n",
       "    .dataframe tbody tr th:only-of-type {\n",
       "        vertical-align: middle;\n",
       "    }\n",
       "\n",
       "    .dataframe tbody tr th {\n",
       "        vertical-align: top;\n",
       "    }\n",
       "\n",
       "    .dataframe thead th {\n",
       "        text-align: right;\n",
       "    }\n",
       "</style>\n",
       "<table border=\"1\" class=\"dataframe\">\n",
       "  <thead>\n",
       "    <tr style=\"text-align: right;\">\n",
       "      <th></th>\n",
       "      <th>M/C</th>\n",
       "      <th>Standard net yield %</th>\n",
       "      <th>Total number of batches</th>\n",
       "      <th>Net Yield Achieved As per standard &amp; more (batches)</th>\n",
       "      <th>Net yield Achieved within 2% less than standard (batches)</th>\n",
       "      <th>Net yield Achieved within 4% less than standard (batches)</th>\n",
       "      <th>average yield</th>\n",
       "    </tr>\n",
       "  </thead>\n",
       "  <tbody>\n",
       "    <tr>\n",
       "      <th>0</th>\n",
       "      <td>303A (100ml)</td>\n",
       "      <td>97%</td>\n",
       "      <td>33.0</td>\n",
       "      <td>32.0</td>\n",
       "      <td>1.0</td>\n",
       "      <td>NaN</td>\n",
       "      <td>98.53%</td>\n",
       "    </tr>\n",
       "    <tr>\n",
       "      <th>1</th>\n",
       "      <td>303B (250ml)</td>\n",
       "      <td>97%</td>\n",
       "      <td>5.0</td>\n",
       "      <td>NaN</td>\n",
       "      <td>NaN</td>\n",
       "      <td>5.0</td>\n",
       "      <td>93.32%</td>\n",
       "    </tr>\n",
       "    <tr>\n",
       "      <th>2</th>\n",
       "      <td>303B (300ml)</td>\n",
       "      <td>97%</td>\n",
       "      <td>NaN</td>\n",
       "      <td>NaN</td>\n",
       "      <td>NaN</td>\n",
       "      <td>NaN</td>\n",
       "      <td>NaN</td>\n",
       "    </tr>\n",
       "    <tr>\n",
       "      <th>3</th>\n",
       "      <td>303B (500ml)</td>\n",
       "      <td>97%</td>\n",
       "      <td>4.0</td>\n",
       "      <td>4.0</td>\n",
       "      <td>NaN</td>\n",
       "      <td>NaN</td>\n",
       "      <td>98.37%</td>\n",
       "    </tr>\n",
       "    <tr>\n",
       "      <th>4</th>\n",
       "      <td>303B (1000ml)</td>\n",
       "      <td>97%</td>\n",
       "      <td>63.0</td>\n",
       "      <td>56.0</td>\n",
       "      <td>4.0</td>\n",
       "      <td>3.0</td>\n",
       "      <td>97.09%</td>\n",
       "    </tr>\n",
       "  </tbody>\n",
       "</table>\n",
       "</div>"
      ],
      "text/plain": [
       "             M/C Standard net yield %   Total number of batches  \\\n",
       "0   303A (100ml)                   97%                     33.0   \n",
       "1   303B (250ml)                   97%                      5.0   \n",
       "2   303B (300ml)                   97%                      NaN   \n",
       "3   303B (500ml)                   97%                      4.0   \n",
       "4  303B (1000ml)                   97%                     63.0   \n",
       "\n",
       "   Net Yield Achieved As per standard & more (batches)  \\\n",
       "0                                               32.0     \n",
       "1                                                NaN     \n",
       "2                                                NaN     \n",
       "3                                                4.0     \n",
       "4                                               56.0     \n",
       "\n",
       "   Net yield Achieved within 2% less than standard (batches)  \\\n",
       "0                                                1.0           \n",
       "1                                                NaN           \n",
       "2                                                NaN           \n",
       "3                                                NaN           \n",
       "4                                                4.0           \n",
       "\n",
       "   Net yield Achieved within 4% less than standard (batches) average yield  \n",
       "0                                                NaN                98.53%  \n",
       "1                                                5.0                93.32%  \n",
       "2                                                NaN                   NaN  \n",
       "3                                                NaN                98.37%  \n",
       "4                                                3.0                97.09%  "
      ]
     },
     "metadata": {},
     "output_type": "display_data"
    }
   ],
   "source": [
    "net_yield_glucose= pd.read_csv(\"dataset/net yield glucose(production).csv\")\n",
    "display(net_yield_glucose)"
   ]
  },
  {
   "cell_type": "code",
   "execution_count": 15,
   "id": "4b0375cf",
   "metadata": {
    "scrolled": true
   },
   "outputs": [
    {
     "data": {
      "text/html": [
       "<div>\n",
       "<style scoped>\n",
       "    .dataframe tbody tr th:only-of-type {\n",
       "        vertical-align: middle;\n",
       "    }\n",
       "\n",
       "    .dataframe tbody tr th {\n",
       "        vertical-align: top;\n",
       "    }\n",
       "\n",
       "    .dataframe thead th {\n",
       "        text-align: right;\n",
       "    }\n",
       "</style>\n",
       "<table border=\"1\" class=\"dataframe\">\n",
       "  <thead>\n",
       "    <tr style=\"text-align: right;\">\n",
       "      <th></th>\n",
       "      <th>M/C</th>\n",
       "      <th>Standard_net_yield_%_</th>\n",
       "      <th>Total_number_of_batches</th>\n",
       "      <th>Net_Yield_Achieved_As_per_standard_&amp;_more_(batches)</th>\n",
       "      <th>Net_yield_Achieved_within_2%_less_than_standard_(batches)</th>\n",
       "      <th>Net_yield_Achieved_within_4%_less_than_standard_(batches)</th>\n",
       "      <th>average_yield</th>\n",
       "    </tr>\n",
       "  </thead>\n",
       "  <tbody>\n",
       "    <tr>\n",
       "      <th>0</th>\n",
       "      <td>303A (100ml)</td>\n",
       "      <td>97%</td>\n",
       "      <td>33.0</td>\n",
       "      <td>32.0</td>\n",
       "      <td>1.0</td>\n",
       "      <td>NaN</td>\n",
       "      <td>98.53%</td>\n",
       "    </tr>\n",
       "    <tr>\n",
       "      <th>1</th>\n",
       "      <td>303B (250ml)</td>\n",
       "      <td>97%</td>\n",
       "      <td>5.0</td>\n",
       "      <td>NaN</td>\n",
       "      <td>NaN</td>\n",
       "      <td>5.0</td>\n",
       "      <td>93.32%</td>\n",
       "    </tr>\n",
       "    <tr>\n",
       "      <th>2</th>\n",
       "      <td>303B (300ml)</td>\n",
       "      <td>97%</td>\n",
       "      <td>NaN</td>\n",
       "      <td>NaN</td>\n",
       "      <td>NaN</td>\n",
       "      <td>NaN</td>\n",
       "      <td>NaN</td>\n",
       "    </tr>\n",
       "    <tr>\n",
       "      <th>3</th>\n",
       "      <td>303B (500ml)</td>\n",
       "      <td>97%</td>\n",
       "      <td>4.0</td>\n",
       "      <td>4.0</td>\n",
       "      <td>NaN</td>\n",
       "      <td>NaN</td>\n",
       "      <td>98.37%</td>\n",
       "    </tr>\n",
       "    <tr>\n",
       "      <th>4</th>\n",
       "      <td>303B (1000ml)</td>\n",
       "      <td>97%</td>\n",
       "      <td>63.0</td>\n",
       "      <td>56.0</td>\n",
       "      <td>4.0</td>\n",
       "      <td>3.0</td>\n",
       "      <td>97.09%</td>\n",
       "    </tr>\n",
       "  </tbody>\n",
       "</table>\n",
       "</div>"
      ],
      "text/plain": [
       "             M/C Standard_net_yield_%_  Total_number_of_batches  \\\n",
       "0   303A (100ml)                   97%                     33.0   \n",
       "1   303B (250ml)                   97%                      5.0   \n",
       "2   303B (300ml)                   97%                      NaN   \n",
       "3   303B (500ml)                   97%                      4.0   \n",
       "4  303B (1000ml)                   97%                     63.0   \n",
       "\n",
       "   Net_Yield_Achieved_As_per_standard_&_more_(batches)  \\\n",
       "0                                               32.0     \n",
       "1                                                NaN     \n",
       "2                                                NaN     \n",
       "3                                                4.0     \n",
       "4                                               56.0     \n",
       "\n",
       "   Net_yield_Achieved_within_2%_less_than_standard_(batches)  \\\n",
       "0                                                1.0           \n",
       "1                                                NaN           \n",
       "2                                                NaN           \n",
       "3                                                NaN           \n",
       "4                                                4.0           \n",
       "\n",
       "   Net_yield_Achieved_within_4%_less_than_standard_(batches) average_yield  \n",
       "0                                                NaN                98.53%  \n",
       "1                                                5.0                93.32%  \n",
       "2                                                NaN                   NaN  \n",
       "3                                                NaN                98.37%  \n",
       "4                                                3.0                97.09%  "
      ]
     },
     "metadata": {},
     "output_type": "display_data"
    }
   ],
   "source": [
    "net_yield_glucose.columns = net_yield_glucose.columns.str.replace(' ','_')\n",
    "display(net_yield_glucose)"
   ]
  },
  {
   "cell_type": "markdown",
   "id": "0027c468",
   "metadata": {},
   "source": [
    "### Efficiency Achieved"
   ]
  },
  {
   "cell_type": "code",
   "execution_count": 68,
   "id": "1cb850ba",
   "metadata": {},
   "outputs": [
    {
     "data": {
      "text/plain": [
       "<AxesSubplot:xlabel='M/C'>"
      ]
     },
     "execution_count": 68,
     "metadata": {},
     "output_type": "execute_result"
    },
    {
     "data": {
      "image/png": "[encoded data removed]",
      "text/plain": [
       "<Figure size 1440x720 with 1 Axes>"
      ]
     },
     "metadata": {
      "needs_background": "light"
     },
     "output_type": "display_data"
    }
   ],
   "source": [
    "net_yield_glucose.plot(x=\"M/C\", y=[\"Total_number_of_batches\", \"Net_Yield_Achieved_As_per_standard_&_more_(batches)\", \"Net_yield_Achieved_within_2%_less_than_standard_(batches)\",\"Net_yield_Achieved_within_4%_less_than_standard_(batches)\"],kind=\"bar\",ylim=[0,70],grid =True,figsize=(20,10))"
   ]
  },
  {
   "cell_type": "markdown",
   "id": "3ccb7bcc",
   "metadata": {},
   "source": [
    "## 3) CIP/SIP/CODE CHANGE / MOULD CHANGE"
   ]
  },
  {
   "cell_type": "code",
   "execution_count": 30,
   "id": "3bb0255f",
   "metadata": {},
   "outputs": [
    {
     "data": {
      "text/html": [
       "<div>\n",
       "<style scoped>\n",
       "    .dataframe tbody tr th:only-of-type {\n",
       "        vertical-align: middle;\n",
       "    }\n",
       "\n",
       "    .dataframe tbody tr th {\n",
       "        vertical-align: top;\n",
       "    }\n",
       "\n",
       "    .dataframe thead th {\n",
       "        text-align: right;\n",
       "    }\n",
       "</style>\n",
       "<table border=\"1\" class=\"dataframe\">\n",
       "  <thead>\n",
       "    <tr style=\"text-align: right;\">\n",
       "      <th></th>\n",
       "      <th>M/C</th>\n",
       "      <th>Standard Time of cip/sip(MIN)</th>\n",
       "      <th>CIP/SIP</th>\n",
       "      <th>CODE CHANGE Standard time (30 MIN)</th>\n",
       "      <th>Mould Change</th>\n",
       "    </tr>\n",
       "  </thead>\n",
       "  <tbody>\n",
       "    <tr>\n",
       "      <th>0</th>\n",
       "      <td>360</td>\n",
       "      <td>180</td>\n",
       "      <td>12</td>\n",
       "      <td>7.0</td>\n",
       "      <td>1.0</td>\n",
       "    </tr>\n",
       "    <tr>\n",
       "      <th>1</th>\n",
       "      <td>305</td>\n",
       "      <td>180</td>\n",
       "      <td>17</td>\n",
       "      <td>1.0</td>\n",
       "      <td>NaN</td>\n",
       "    </tr>\n",
       "    <tr>\n",
       "      <th>2</th>\n",
       "      <td>3012</td>\n",
       "      <td>180</td>\n",
       "      <td>29</td>\n",
       "      <td>NaN</td>\n",
       "      <td>2.0</td>\n",
       "    </tr>\n",
       "    <tr>\n",
       "      <th>3</th>\n",
       "      <td>303A</td>\n",
       "      <td>180</td>\n",
       "      <td>8</td>\n",
       "      <td>NaN</td>\n",
       "      <td>NaN</td>\n",
       "    </tr>\n",
       "    <tr>\n",
       "      <th>4</th>\n",
       "      <td>303B</td>\n",
       "      <td>180</td>\n",
       "      <td>18</td>\n",
       "      <td>1.0</td>\n",
       "      <td>4.0</td>\n",
       "    </tr>\n",
       "  </tbody>\n",
       "</table>\n",
       "</div>"
      ],
      "text/plain": [
       "    M/C  Standard Time of cip/sip(MIN)  CIP/SIP  \\\n",
       "0   360                            180       12   \n",
       "1   305                            180       17   \n",
       "2  3012                            180       29   \n",
       "3  303A                            180        8   \n",
       "4  303B                            180       18   \n",
       "\n",
       "   CODE CHANGE Standard time (30 MIN)  Mould Change  \n",
       "0                                 7.0           1.0  \n",
       "1                                 1.0           NaN  \n",
       "2                                 NaN           2.0  \n",
       "3                                 NaN           NaN  \n",
       "4                                 1.0           4.0  "
      ]
     },
     "metadata": {},
     "output_type": "display_data"
    }
   ],
   "source": [
    "cipsip_code_change= pd.read_csv(\"dataset/CIPSIPCODE CHANGE  MOULD CHANGE.csv\")\n",
    "display(cipsip_code_change)"
   ]
  },
  {
   "cell_type": "code",
   "execution_count": 31,
   "id": "d78251ef",
   "metadata": {},
   "outputs": [
    {
     "data": {
      "text/html": [
       "<div>\n",
       "<style scoped>\n",
       "    .dataframe tbody tr th:only-of-type {\n",
       "        vertical-align: middle;\n",
       "    }\n",
       "\n",
       "    .dataframe tbody tr th {\n",
       "        vertical-align: top;\n",
       "    }\n",
       "\n",
       "    .dataframe thead th {\n",
       "        text-align: right;\n",
       "    }\n",
       "</style>\n",
       "<table border=\"1\" class=\"dataframe\">\n",
       "  <thead>\n",
       "    <tr style=\"text-align: right;\">\n",
       "      <th></th>\n",
       "      <th>M/C</th>\n",
       "      <th>Standard_Time_of_cip/sip(MIN)</th>\n",
       "      <th>CIP/SIP</th>\n",
       "      <th>CODE_CHANGE_Standard_time_(30_MIN)</th>\n",
       "      <th>Mould_Change</th>\n",
       "    </tr>\n",
       "  </thead>\n",
       "  <tbody>\n",
       "    <tr>\n",
       "      <th>0</th>\n",
       "      <td>360</td>\n",
       "      <td>180</td>\n",
       "      <td>12</td>\n",
       "      <td>7.0</td>\n",
       "      <td>1.0</td>\n",
       "    </tr>\n",
       "    <tr>\n",
       "      <th>1</th>\n",
       "      <td>305</td>\n",
       "      <td>180</td>\n",
       "      <td>17</td>\n",
       "      <td>1.0</td>\n",
       "      <td>NaN</td>\n",
       "    </tr>\n",
       "    <tr>\n",
       "      <th>2</th>\n",
       "      <td>3012</td>\n",
       "      <td>180</td>\n",
       "      <td>29</td>\n",
       "      <td>NaN</td>\n",
       "      <td>2.0</td>\n",
       "    </tr>\n",
       "    <tr>\n",
       "      <th>3</th>\n",
       "      <td>303A</td>\n",
       "      <td>180</td>\n",
       "      <td>8</td>\n",
       "      <td>NaN</td>\n",
       "      <td>NaN</td>\n",
       "    </tr>\n",
       "    <tr>\n",
       "      <th>4</th>\n",
       "      <td>303B</td>\n",
       "      <td>180</td>\n",
       "      <td>18</td>\n",
       "      <td>1.0</td>\n",
       "      <td>4.0</td>\n",
       "    </tr>\n",
       "  </tbody>\n",
       "</table>\n",
       "</div>"
      ],
      "text/plain": [
       "    M/C  Standard_Time_of_cip/sip(MIN)  CIP/SIP  \\\n",
       "0   360                            180       12   \n",
       "1   305                            180       17   \n",
       "2  3012                            180       29   \n",
       "3  303A                            180        8   \n",
       "4  303B                            180       18   \n",
       "\n",
       "   CODE_CHANGE_Standard_time_(30_MIN)  Mould_Change  \n",
       "0                                 7.0           1.0  \n",
       "1                                 1.0           NaN  \n",
       "2                                 NaN           2.0  \n",
       "3                                 NaN           NaN  \n",
       "4                                 1.0           4.0  "
      ]
     },
     "metadata": {},
     "output_type": "display_data"
    }
   ],
   "source": [
    "cipsip_code_change.columns = cipsip_code_change.columns.str.replace(' ','_')\n",
    "display(cipsip_code_change)\n"
   ]
  },
  {
   "cell_type": "code",
   "execution_count": 32,
   "id": "332a1424",
   "metadata": {
    "scrolled": false
   },
   "outputs": [
    {
     "data": {
      "text/plain": [
       "<AxesSubplot:xlabel='M/C'>"
      ]
     },
     "execution_count": 32,
     "metadata": {},
     "output_type": "execute_result"
    },
    {
     "data": {
      "image/png": "[encoded data removed]",
      "text/plain": [
       "<Figure size 1440x720 with 1 Axes>"
      ]
     },
     "metadata": {
      "needs_background": "light"
     },
     "output_type": "display_data"
    }
   ],
   "source": [
    "cipsip_code_change.plot(x=\"M/C\", y=[\"Standard_Time_of_cip/sip(MIN)\", \"CIP/SIP\", \"CODE_CHANGE_Standard_time_(30_MIN)\",\"Mould_Change\"],grid =True,kind=\"bar\",ylim=[0,200],figsize=(20,10))"
   ]
  },
  {
   "cell_type": "markdown",
   "id": "07abbcb6",
   "metadata": {},
   "source": [
    "## 4) Packing Comparison of June 2020 with Previous year"
   ]
  },
  {
   "cell_type": "code",
   "execution_count": 11,
   "id": "31bfb8d9",
   "metadata": {},
   "outputs": [
    {
     "data": {
      "text/html": [
       "<div>\n",
       "<style scoped>\n",
       "    .dataframe tbody tr th:only-of-type {\n",
       "        vertical-align: middle;\n",
       "    }\n",
       "\n",
       "    .dataframe tbody tr th {\n",
       "        vertical-align: top;\n",
       "    }\n",
       "\n",
       "    .dataframe thead th {\n",
       "        text-align: right;\n",
       "    }\n",
       "</style>\n",
       "<table border=\"1\" class=\"dataframe\">\n",
       "  <thead>\n",
       "    <tr style=\"text-align: right;\">\n",
       "      <th></th>\n",
       "      <th>M/C</th>\n",
       "      <th>Quantity packed in June 2019(in Lac.)</th>\n",
       "      <th>Manpower Consumed June 2019</th>\n",
       "      <th>Quantity packed in June 2020(in Lac.)</th>\n",
       "      <th>Manpower Consumed June 2020</th>\n",
       "    </tr>\n",
       "  </thead>\n",
       "  <tbody>\n",
       "    <tr>\n",
       "      <th>0</th>\n",
       "      <td>360</td>\n",
       "      <td>2330645</td>\n",
       "      <td>1398</td>\n",
       "      <td>2360785</td>\n",
       "      <td>1494</td>\n",
       "    </tr>\n",
       "    <tr>\n",
       "      <th>1</th>\n",
       "      <td>3012</td>\n",
       "      <td>1679696</td>\n",
       "      <td>319</td>\n",
       "      <td>1345325</td>\n",
       "      <td>209</td>\n",
       "    </tr>\n",
       "    <tr>\n",
       "      <th>2</th>\n",
       "      <td>305</td>\n",
       "      <td>3962800</td>\n",
       "      <td>255</td>\n",
       "      <td>5131310</td>\n",
       "      <td>329</td>\n",
       "    </tr>\n",
       "    <tr>\n",
       "      <th>3</th>\n",
       "      <td>303A</td>\n",
       "      <td>1141089</td>\n",
       "      <td>581</td>\n",
       "      <td>1587087</td>\n",
       "      <td>867</td>\n",
       "    </tr>\n",
       "    <tr>\n",
       "      <th>4</th>\n",
       "      <td>303B</td>\n",
       "      <td>660775</td>\n",
       "      <td>463</td>\n",
       "      <td>480628</td>\n",
       "      <td>467</td>\n",
       "    </tr>\n",
       "  </tbody>\n",
       "</table>\n",
       "</div>"
      ],
      "text/plain": [
       "    M/C  Quantity packed in June 2019(in Lac.)  Manpower Consumed June 2019  \\\n",
       "0   360                                2330645                         1398   \n",
       "1  3012                                1679696                          319   \n",
       "2   305                                3962800                          255   \n",
       "3  303A                                1141089                          581   \n",
       "4  303B                                 660775                          463   \n",
       "\n",
       "   Quantity packed in June 2020(in Lac.)  Manpower Consumed June 2020  \n",
       "0                                2360785                         1494  \n",
       "1                                1345325                          209  \n",
       "2                                5131310                          329  \n",
       "3                                1587087                          867  \n",
       "4                                 480628                          467  "
      ]
     },
     "metadata": {},
     "output_type": "display_data"
    }
   ],
   "source": [
    "Packing_comparison= pd.read_csv(\"dataset/Packing Comparison.csv\")\n",
    "display(Packing_comparison)"
   ]
  },
  {
   "cell_type": "code",
   "execution_count": 20,
   "id": "e97ad352",
   "metadata": {},
   "outputs": [
    {
     "data": {
      "text/html": [
       "<div>\n",
       "<style scoped>\n",
       "    .dataframe tbody tr th:only-of-type {\n",
       "        vertical-align: middle;\n",
       "    }\n",
       "\n",
       "    .dataframe tbody tr th {\n",
       "        vertical-align: top;\n",
       "    }\n",
       "\n",
       "    .dataframe thead th {\n",
       "        text-align: right;\n",
       "    }\n",
       "</style>\n",
       "<table border=\"1\" class=\"dataframe\">\n",
       "  <thead>\n",
       "    <tr style=\"text-align: right;\">\n",
       "      <th></th>\n",
       "      <th>M/C</th>\n",
       "      <th>Quantity_packed_in_June_2019(in_Lac.)</th>\n",
       "      <th>Manpower_Consumed_June_2019</th>\n",
       "      <th>Quantity_packed_in_June_2020(in_Lac.)</th>\n",
       "      <th>Manpower_Consumed_June_2020</th>\n",
       "    </tr>\n",
       "  </thead>\n",
       "  <tbody>\n",
       "    <tr>\n",
       "      <th>0</th>\n",
       "      <td>360</td>\n",
       "      <td>2330645</td>\n",
       "      <td>1398</td>\n",
       "      <td>2360785</td>\n",
       "      <td>1494</td>\n",
       "    </tr>\n",
       "    <tr>\n",
       "      <th>1</th>\n",
       "      <td>3012</td>\n",
       "      <td>1679696</td>\n",
       "      <td>319</td>\n",
       "      <td>1345325</td>\n",
       "      <td>209</td>\n",
       "    </tr>\n",
       "    <tr>\n",
       "      <th>2</th>\n",
       "      <td>305</td>\n",
       "      <td>3962800</td>\n",
       "      <td>255</td>\n",
       "      <td>5131310</td>\n",
       "      <td>329</td>\n",
       "    </tr>\n",
       "    <tr>\n",
       "      <th>3</th>\n",
       "      <td>303A</td>\n",
       "      <td>1141089</td>\n",
       "      <td>581</td>\n",
       "      <td>1587087</td>\n",
       "      <td>867</td>\n",
       "    </tr>\n",
       "    <tr>\n",
       "      <th>4</th>\n",
       "      <td>303B</td>\n",
       "      <td>660775</td>\n",
       "      <td>463</td>\n",
       "      <td>480628</td>\n",
       "      <td>467</td>\n",
       "    </tr>\n",
       "  </tbody>\n",
       "</table>\n",
       "</div>"
      ],
      "text/plain": [
       "    M/C  Quantity_packed_in_June_2019(in_Lac.)  Manpower_Consumed_June_2019  \\\n",
       "0   360                                2330645                         1398   \n",
       "1  3012                                1679696                          319   \n",
       "2   305                                3962800                          255   \n",
       "3  303A                                1141089                          581   \n",
       "4  303B                                 660775                          463   \n",
       "\n",
       "   Quantity_packed_in_June_2020(in_Lac.)  Manpower_Consumed_June_2020  \n",
       "0                                2360785                         1494  \n",
       "1                                1345325                          209  \n",
       "2                                5131310                          329  \n",
       "3                                1587087                          867  \n",
       "4                                 480628                          467  "
      ]
     },
     "metadata": {},
     "output_type": "display_data"
    }
   ],
   "source": [
    "Packing_comparison.columns = Packing_comparison.columns.str.replace(' ','_')\n",
    "display(Packing_comparison)"
   ]
  },
  {
   "cell_type": "markdown",
   "id": "696cc2b1",
   "metadata": {},
   "source": [
    "### Quantity packed as compared to previous year"
   ]
  },
  {
   "cell_type": "code",
   "execution_count": 61,
   "id": "0e0c54f6",
   "metadata": {
    "scrolled": true
   },
   "outputs": [
    {
     "data": {
      "text/plain": [
       "<AxesSubplot:xlabel='M/C'>"
      ]
     },
     "execution_count": 61,
     "metadata": {},
     "output_type": "execute_result"
    },
    {
     "data": {
      "image/png": "[encoded data removed]",
      "text/plain": [
       "<Figure size 1440x720 with 1 Axes>"
      ]
     },
     "metadata": {
      "needs_background": "light"
     },
     "output_type": "display_data"
    }
   ],
   "source": [
    "Packing_comparison.plot(x=\"M/C\", y=[\"Quantity_packed_in_June_2019(in_Lac.)\", \"Quantity_packed_in_June_2020(in_Lac.)\"],grid =True,kind=\"bar\",ylim=[0,6000000],figsize=(20,10))"
   ]
  },
  {
   "cell_type": "markdown",
   "id": "cd07ca93",
   "metadata": {},
   "source": [
    "### Manpower Consumed as compared to previous year"
   ]
  },
  {
   "cell_type": "code",
   "execution_count": 60,
   "id": "176fb119",
   "metadata": {},
   "outputs": [
    {
     "data": {
      "text/plain": [
       "<AxesSubplot:xlabel='M/C'>"
      ]
     },
     "execution_count": 60,
     "metadata": {},
     "output_type": "execute_result"
    },
    {
     "data": {
      "image/png": "[encoded data removed]",
      "text/plain": [
       "<Figure size 1440x720 with 1 Axes>"
      ]
     },
     "metadata": {
      "needs_background": "light"
     },
     "output_type": "display_data"
    }
   ],
   "source": [
    "Packing_comparison.plot(x=\"M/C\", y=[\"Manpower_Consumed_June_2019\", \"Manpower_Consumed_June_2020\"],kind=\"bar\",grid =True,ylim=[0,2000],figsize=(20,10))\n"
   ]
  },
  {
   "cell_type": "markdown",
   "id": "a8684914",
   "metadata": {},
   "source": [
    "## 5) Net Yield for packing Respules"
   ]
  },
  {
   "cell_type": "code",
   "execution_count": 12,
   "id": "6decf9f8",
   "metadata": {},
   "outputs": [
    {
     "data": {
      "text/html": [
       "<div>\n",
       "<style scoped>\n",
       "    .dataframe tbody tr th:only-of-type {\n",
       "        vertical-align: middle;\n",
       "    }\n",
       "\n",
       "    .dataframe tbody tr th {\n",
       "        vertical-align: top;\n",
       "    }\n",
       "\n",
       "    .dataframe thead th {\n",
       "        text-align: right;\n",
       "    }\n",
       "</style>\n",
       "<table border=\"1\" class=\"dataframe\">\n",
       "  <thead>\n",
       "    <tr style=\"text-align: right;\">\n",
       "      <th></th>\n",
       "      <th>M/C</th>\n",
       "      <th>Standard net yield %</th>\n",
       "      <th>Total number of batches</th>\n",
       "      <th>Net Yield Achieved As per standard &amp; more (batches)</th>\n",
       "      <th>Net yield Achieved within 2% less than standard (batches)</th>\n",
       "      <th>Net yield Achieved within 3% less than standard (batches)</th>\n",
       "      <th>Unnamed: 6</th>\n",
       "    </tr>\n",
       "  </thead>\n",
       "  <tbody>\n",
       "    <tr>\n",
       "      <th>0</th>\n",
       "      <td>360 (100ml)</td>\n",
       "      <td>95%</td>\n",
       "      <td>NaN</td>\n",
       "      <td>NaN</td>\n",
       "      <td>NaN</td>\n",
       "      <td>NaN</td>\n",
       "      <td>NaN</td>\n",
       "    </tr>\n",
       "    <tr>\n",
       "      <th>1</th>\n",
       "      <td>360 (300ml)</td>\n",
       "      <td>95%</td>\n",
       "      <td>NaN</td>\n",
       "      <td>NaN</td>\n",
       "      <td>NaN</td>\n",
       "      <td>NaN</td>\n",
       "      <td>NaN</td>\n",
       "    </tr>\n",
       "    <tr>\n",
       "      <th>2</th>\n",
       "      <td>360 (100ml)</td>\n",
       "      <td>95%</td>\n",
       "      <td>175.0</td>\n",
       "      <td>173.0</td>\n",
       "      <td>1.0</td>\n",
       "      <td>1.0</td>\n",
       "      <td>NaN</td>\n",
       "    </tr>\n",
       "    <tr>\n",
       "      <th>3</th>\n",
       "      <td>305 (2.0ml/2.5ml)</td>\n",
       "      <td>95%</td>\n",
       "      <td>23.0</td>\n",
       "      <td>23.0</td>\n",
       "      <td>NaN</td>\n",
       "      <td>NaN</td>\n",
       "      <td>NaN</td>\n",
       "    </tr>\n",
       "    <tr>\n",
       "      <th>4</th>\n",
       "      <td>3012 (2.0ml/2.5ml)</td>\n",
       "      <td>95%</td>\n",
       "      <td>5.0</td>\n",
       "      <td>5.0</td>\n",
       "      <td>NaN</td>\n",
       "      <td>NaN</td>\n",
       "      <td>NaN</td>\n",
       "    </tr>\n",
       "    <tr>\n",
       "      <th>5</th>\n",
       "      <td>3012 (5ml/10ml)</td>\n",
       "      <td>95%</td>\n",
       "      <td>8.0</td>\n",
       "      <td>4.0</td>\n",
       "      <td>2.0</td>\n",
       "      <td>2.0</td>\n",
       "      <td>NaN</td>\n",
       "    </tr>\n",
       "  </tbody>\n",
       "</table>\n",
       "</div>"
      ],
      "text/plain": [
       "                  M/C Standard net yield %  Total number of batches  \\\n",
       "0         360 (100ml)                  95%                      NaN   \n",
       "1         360 (300ml)                  95%                      NaN   \n",
       "2         360 (100ml)                  95%                    175.0   \n",
       "3   305 (2.0ml/2.5ml)                  95%                     23.0   \n",
       "4  3012 (2.0ml/2.5ml)                  95%                      5.0   \n",
       "5     3012 (5ml/10ml)                  95%                      8.0   \n",
       "\n",
       "   Net Yield Achieved As per standard & more (batches)  \\\n",
       "0                                                NaN     \n",
       "1                                                NaN     \n",
       "2                                              173.0     \n",
       "3                                               23.0     \n",
       "4                                                5.0     \n",
       "5                                                4.0     \n",
       "\n",
       "   Net yield Achieved within 2% less than standard (batches)  \\\n",
       "0                                                NaN           \n",
       "1                                                NaN           \n",
       "2                                                1.0           \n",
       "3                                                NaN           \n",
       "4                                                NaN           \n",
       "5                                                2.0           \n",
       "\n",
       "   Net yield Achieved within 3% less than standard (batches)  Unnamed: 6  \n",
       "0                                                NaN                 NaN  \n",
       "1                                                NaN                 NaN  \n",
       "2                                                1.0                 NaN  \n",
       "3                                                NaN                 NaN  \n",
       "4                                                NaN                 NaN  \n",
       "5                                                2.0                 NaN  "
      ]
     },
     "metadata": {},
     "output_type": "display_data"
    }
   ],
   "source": [
    "net_yield_packing_respule= pd.read_csv(\"dataset/net yield respule(packing).csv\")\n",
    "display(net_yield_packing_respule)"
   ]
  },
  {
   "cell_type": "code",
   "execution_count": 33,
   "id": "d3d201a8",
   "metadata": {},
   "outputs": [
    {
     "data": {
      "text/html": [
       "<div>\n",
       "<style scoped>\n",
       "    .dataframe tbody tr th:only-of-type {\n",
       "        vertical-align: middle;\n",
       "    }\n",
       "\n",
       "    .dataframe tbody tr th {\n",
       "        vertical-align: top;\n",
       "    }\n",
       "\n",
       "    .dataframe thead th {\n",
       "        text-align: right;\n",
       "    }\n",
       "</style>\n",
       "<table border=\"1\" class=\"dataframe\">\n",
       "  <thead>\n",
       "    <tr style=\"text-align: right;\">\n",
       "      <th></th>\n",
       "      <th>M/C</th>\n",
       "      <th>Standard_net_yield_%</th>\n",
       "      <th>Total_number_of_batches</th>\n",
       "      <th>Net_Yield_Achieved_As_per_standard_&amp;_more_(batches)</th>\n",
       "      <th>Net_yield_Achieved_within_2%_less_than_standard_(batches)</th>\n",
       "      <th>Net_yield_Achieved_within_3%_less_than_standard_(batches)</th>\n",
       "      <th>Unnamed:_6</th>\n",
       "    </tr>\n",
       "  </thead>\n",
       "  <tbody>\n",
       "    <tr>\n",
       "      <th>0</th>\n",
       "      <td>360 (100ml)</td>\n",
       "      <td>95%</td>\n",
       "      <td>NaN</td>\n",
       "      <td>NaN</td>\n",
       "      <td>NaN</td>\n",
       "      <td>NaN</td>\n",
       "      <td>NaN</td>\n",
       "    </tr>\n",
       "    <tr>\n",
       "      <th>1</th>\n",
       "      <td>360 (300ml)</td>\n",
       "      <td>95%</td>\n",
       "      <td>NaN</td>\n",
       "      <td>NaN</td>\n",
       "      <td>NaN</td>\n",
       "      <td>NaN</td>\n",
       "      <td>NaN</td>\n",
       "    </tr>\n",
       "    <tr>\n",
       "      <th>2</th>\n",
       "      <td>360 (100ml)</td>\n",
       "      <td>95%</td>\n",
       "      <td>175.0</td>\n",
       "      <td>173.0</td>\n",
       "      <td>1.0</td>\n",
       "      <td>1.0</td>\n",
       "      <td>NaN</td>\n",
       "    </tr>\n",
       "    <tr>\n",
       "      <th>3</th>\n",
       "      <td>305 (2.0ml/2.5ml)</td>\n",
       "      <td>95%</td>\n",
       "      <td>23.0</td>\n",
       "      <td>23.0</td>\n",
       "      <td>NaN</td>\n",
       "      <td>NaN</td>\n",
       "      <td>NaN</td>\n",
       "    </tr>\n",
       "    <tr>\n",
       "      <th>4</th>\n",
       "      <td>3012 (2.0ml/2.5ml)</td>\n",
       "      <td>95%</td>\n",
       "      <td>5.0</td>\n",
       "      <td>5.0</td>\n",
       "      <td>NaN</td>\n",
       "      <td>NaN</td>\n",
       "      <td>NaN</td>\n",
       "    </tr>\n",
       "    <tr>\n",
       "      <th>5</th>\n",
       "      <td>3012 (5ml/10ml)</td>\n",
       "      <td>95%</td>\n",
       "      <td>8.0</td>\n",
       "      <td>4.0</td>\n",
       "      <td>2.0</td>\n",
       "      <td>2.0</td>\n",
       "      <td>NaN</td>\n",
       "    </tr>\n",
       "  </tbody>\n",
       "</table>\n",
       "</div>"
      ],
      "text/plain": [
       "                  M/C Standard_net_yield_%  Total_number_of_batches  \\\n",
       "0         360 (100ml)                  95%                      NaN   \n",
       "1         360 (300ml)                  95%                      NaN   \n",
       "2         360 (100ml)                  95%                    175.0   \n",
       "3   305 (2.0ml/2.5ml)                  95%                     23.0   \n",
       "4  3012 (2.0ml/2.5ml)                  95%                      5.0   \n",
       "5     3012 (5ml/10ml)                  95%                      8.0   \n",
       "\n",
       "   Net_Yield_Achieved_As_per_standard_&_more_(batches)  \\\n",
       "0                                                NaN     \n",
       "1                                                NaN     \n",
       "2                                              173.0     \n",
       "3                                               23.0     \n",
       "4                                                5.0     \n",
       "5                                                4.0     \n",
       "\n",
       "   Net_yield_Achieved_within_2%_less_than_standard_(batches)  \\\n",
       "0                                                NaN           \n",
       "1                                                NaN           \n",
       "2                                                1.0           \n",
       "3                                                NaN           \n",
       "4                                                NaN           \n",
       "5                                                2.0           \n",
       "\n",
       "   Net_yield_Achieved_within_3%_less_than_standard_(batches)  Unnamed:_6  \n",
       "0                                                NaN                 NaN  \n",
       "1                                                NaN                 NaN  \n",
       "2                                                1.0                 NaN  \n",
       "3                                                NaN                 NaN  \n",
       "4                                                NaN                 NaN  \n",
       "5                                                2.0                 NaN  "
      ]
     },
     "metadata": {},
     "output_type": "display_data"
    }
   ],
   "source": [
    "net_yield_packing_respule.columns = net_yield_packing_respule.columns.str.replace(' ','_')\n",
    "display(net_yield_packing_respule)"
   ]
  },
  {
   "cell_type": "markdown",
   "id": "72bb0e5b",
   "metadata": {},
   "source": [
    "### Efficiency Achieved"
   ]
  },
  {
   "cell_type": "code",
   "execution_count": 59,
   "id": "6e93806b",
   "metadata": {
    "scrolled": false
   },
   "outputs": [
    {
     "data": {
      "text/plain": [
       "<AxesSubplot:xlabel='M/C'>"
      ]
     },
     "execution_count": 59,
     "metadata": {},
     "output_type": "execute_result"
    },
    {
     "data": {
      "image/png": "[encoded data removed]",
      "text/plain": [
       "<Figure size 1440x720 with 1 Axes>"
      ]
     },
     "metadata": {
      "needs_background": "light"
     },
     "output_type": "display_data"
    }
   ],
   "source": [
    "net_yield_packing_respule.plot(x=\"M/C\", y=[\"Total_number_of_batches\", \"Net_Yield_Achieved_As_per_standard_&_more_(batches)\", \"Net_yield_Achieved_within_2%_less_than_standard_(batches)\",\"Net_yield_Achieved_within_3%_less_than_standard_(batches)\"],kind=\"bar\",ylim=[0,200],figsize=(20,10),grid =True)"
   ]
  },
  {
   "cell_type": "markdown",
   "id": "42c52243",
   "metadata": {},
   "source": [
    "## 5) Net Yield for packing Respules"
   ]
  },
  {
   "cell_type": "code",
   "execution_count": 13,
   "id": "6073d2a4",
   "metadata": {},
   "outputs": [
    {
     "data": {
      "text/html": [
       "<div>\n",
       "<style scoped>\n",
       "    .dataframe tbody tr th:only-of-type {\n",
       "        vertical-align: middle;\n",
       "    }\n",
       "\n",
       "    .dataframe tbody tr th {\n",
       "        vertical-align: top;\n",
       "    }\n",
       "\n",
       "    .dataframe thead th {\n",
       "        text-align: right;\n",
       "    }\n",
       "</style>\n",
       "<table border=\"1\" class=\"dataframe\">\n",
       "  <thead>\n",
       "    <tr style=\"text-align: right;\">\n",
       "      <th></th>\n",
       "      <th>M/C</th>\n",
       "      <th>Standard net yield %</th>\n",
       "      <th>Total number of batches</th>\n",
       "      <th>Net Yield Achieved As per standard &amp; more (batches)</th>\n",
       "      <th>Net yield Achieved within 2% less than standard (batches)</th>\n",
       "      <th>Net yield Achieved within 3% less than standard (batches)</th>\n",
       "    </tr>\n",
       "  </thead>\n",
       "  <tbody>\n",
       "    <tr>\n",
       "      <th>0</th>\n",
       "      <td>303A (100ml)</td>\n",
       "      <td>95%</td>\n",
       "      <td>19.0</td>\n",
       "      <td>19.0</td>\n",
       "      <td>NaN</td>\n",
       "      <td>NaN</td>\n",
       "    </tr>\n",
       "    <tr>\n",
       "      <th>1</th>\n",
       "      <td>303B (300ml)</td>\n",
       "      <td>95%</td>\n",
       "      <td>NaN</td>\n",
       "      <td>NaN</td>\n",
       "      <td>NaN</td>\n",
       "      <td>NaN</td>\n",
       "    </tr>\n",
       "    <tr>\n",
       "      <th>2</th>\n",
       "      <td>303B (500ml)</td>\n",
       "      <td>95%</td>\n",
       "      <td>NaN</td>\n",
       "      <td>4.0</td>\n",
       "      <td>NaN</td>\n",
       "      <td>NaN</td>\n",
       "    </tr>\n",
       "    <tr>\n",
       "      <th>3</th>\n",
       "      <td>303B (1000ml)</td>\n",
       "      <td>95%</td>\n",
       "      <td>63.0</td>\n",
       "      <td>55.0</td>\n",
       "      <td>NaN</td>\n",
       "      <td>8.0</td>\n",
       "    </tr>\n",
       "  </tbody>\n",
       "</table>\n",
       "</div>"
      ],
      "text/plain": [
       "             M/C Standard net yield %   Total number of batches  \\\n",
       "0   303A (100ml)                   95%                     19.0   \n",
       "1   303B (300ml)                   95%                      NaN   \n",
       "2   303B (500ml)                   95%                      NaN   \n",
       "3  303B (1000ml)                   95%                     63.0   \n",
       "\n",
       "   Net Yield Achieved As per standard & more (batches)  \\\n",
       "0                                               19.0     \n",
       "1                                                NaN     \n",
       "2                                                4.0     \n",
       "3                                               55.0     \n",
       "\n",
       "   Net yield Achieved within 2% less than standard (batches)  \\\n",
       "0                                                NaN           \n",
       "1                                                NaN           \n",
       "2                                                NaN           \n",
       "3                                                NaN           \n",
       "\n",
       "   Net yield Achieved within 3% less than standard (batches)  \n",
       "0                                                NaN          \n",
       "1                                                NaN          \n",
       "2                                                NaN          \n",
       "3                                                8.0          "
      ]
     },
     "metadata": {},
     "output_type": "display_data"
    }
   ],
   "source": [
    "net_yield_packing_glucose= pd.read_csv(\"dataset/net yield glucose(packing).csv\")\n",
    "display(net_yield_packing_glucose)"
   ]
  },
  {
   "cell_type": "code",
   "execution_count": 46,
   "id": "21f4c5db",
   "metadata": {
    "scrolled": true
   },
   "outputs": [
    {
     "data": {
      "text/html": [
       "<div>\n",
       "<style scoped>\n",
       "    .dataframe tbody tr th:only-of-type {\n",
       "        vertical-align: middle;\n",
       "    }\n",
       "\n",
       "    .dataframe tbody tr th {\n",
       "        vertical-align: top;\n",
       "    }\n",
       "\n",
       "    .dataframe thead th {\n",
       "        text-align: right;\n",
       "    }\n",
       "</style>\n",
       "<table border=\"1\" class=\"dataframe\">\n",
       "  <thead>\n",
       "    <tr style=\"text-align: right;\">\n",
       "      <th></th>\n",
       "      <th>M/C</th>\n",
       "      <th>Standard_net_yield_%_</th>\n",
       "      <th>Total_number_of_batches</th>\n",
       "      <th>Net_Yield_Achieved_As_per_standard_&amp;_more_(batches)</th>\n",
       "      <th>Net_yield_Achieved_within_2%_less_than_standard_(batches)</th>\n",
       "      <th>Net_yield_Achieved_within_3%_less_than_standard_(batches)</th>\n",
       "    </tr>\n",
       "  </thead>\n",
       "  <tbody>\n",
       "    <tr>\n",
       "      <th>0</th>\n",
       "      <td>303A (100ml)</td>\n",
       "      <td>95%</td>\n",
       "      <td>19.0</td>\n",
       "      <td>19.0</td>\n",
       "      <td>NaN</td>\n",
       "      <td>NaN</td>\n",
       "    </tr>\n",
       "    <tr>\n",
       "      <th>1</th>\n",
       "      <td>303B (300ml)</td>\n",
       "      <td>95%</td>\n",
       "      <td>NaN</td>\n",
       "      <td>NaN</td>\n",
       "      <td>NaN</td>\n",
       "      <td>NaN</td>\n",
       "    </tr>\n",
       "    <tr>\n",
       "      <th>2</th>\n",
       "      <td>303B (500ml)</td>\n",
       "      <td>95%</td>\n",
       "      <td>NaN</td>\n",
       "      <td>4.0</td>\n",
       "      <td>NaN</td>\n",
       "      <td>NaN</td>\n",
       "    </tr>\n",
       "    <tr>\n",
       "      <th>3</th>\n",
       "      <td>303B (1000ml)</td>\n",
       "      <td>95%</td>\n",
       "      <td>63.0</td>\n",
       "      <td>55.0</td>\n",
       "      <td>NaN</td>\n",
       "      <td>8.0</td>\n",
       "    </tr>\n",
       "  </tbody>\n",
       "</table>\n",
       "</div>"
      ],
      "text/plain": [
       "             M/C Standard_net_yield_%_  Total_number_of_batches  \\\n",
       "0   303A (100ml)                   95%                     19.0   \n",
       "1   303B (300ml)                   95%                      NaN   \n",
       "2   303B (500ml)                   95%                      NaN   \n",
       "3  303B (1000ml)                   95%                     63.0   \n",
       "\n",
       "   Net_Yield_Achieved_As_per_standard_&_more_(batches)  \\\n",
       "0                                               19.0     \n",
       "1                                                NaN     \n",
       "2                                                4.0     \n",
       "3                                               55.0     \n",
       "\n",
       "   Net_yield_Achieved_within_2%_less_than_standard_(batches)  \\\n",
       "0                                                NaN           \n",
       "1                                                NaN           \n",
       "2                                                NaN           \n",
       "3                                                NaN           \n",
       "\n",
       "   Net_yield_Achieved_within_3%_less_than_standard_(batches)  \n",
       "0                                                NaN          \n",
       "1                                                NaN          \n",
       "2                                                NaN          \n",
       "3                                                8.0          "
      ]
     },
     "metadata": {},
     "output_type": "display_data"
    }
   ],
   "source": [
    "net_yield_packing_glucose.columns = net_yield_packing_glucose.columns.str.replace(' ','_')\n",
    "display(net_yield_packing_glucose)"
   ]
  },
  {
   "cell_type": "markdown",
   "id": "f318e392",
   "metadata": {},
   "source": [
    "### Efficiency Achieved"
   ]
  },
  {
   "cell_type": "code",
   "execution_count": 58,
   "id": "7e543682",
   "metadata": {},
   "outputs": [
    {
     "data": {
      "text/plain": [
       "<AxesSubplot:xlabel='M/C'>"
      ]
     },
     "execution_count": 58,
     "metadata": {},
     "output_type": "execute_result"
    },
    {
     "data": {
      "image/png": "[encoded data removed]",
      "text/plain": [
       "<Figure size 1440x720 with 1 Axes>"
      ]
     },
     "metadata": {
      "needs_background": "light"
     },
     "output_type": "display_data"
    }
   ],
   "source": [
    "net_yield_packing_glucose.plot(x=\"M/C\", y=[\"Total_number_of_batches\", \"Net_Yield_Achieved_As_per_standard_&_more_(batches)\", \"Net_yield_Achieved_within_2%_less_than_standard_(batches)\",\"Net_yield_Achieved_within_3%_less_than_standard_(batches)\"],kind=\"bar\",ylim=[0,100],figsize=(20,10),grid =True)"
   ]
  },
  {
   "cell_type": "markdown",
   "id": "7e45b75e",
   "metadata": {},
   "source": [
    "## 6) Total Work pending current Month"
   ]
  },
  {
   "cell_type": "code",
   "execution_count": 14,
   "id": "1ab21ae3",
   "metadata": {},
   "outputs": [
    {
     "data": {
      "text/html": [
       "<div>\n",
       "<style scoped>\n",
       "    .dataframe tbody tr th:only-of-type {\n",
       "        vertical-align: middle;\n",
       "    }\n",
       "\n",
       "    .dataframe tbody tr th {\n",
       "        vertical-align: top;\n",
       "    }\n",
       "\n",
       "    .dataframe thead th {\n",
       "        text-align: right;\n",
       "    }\n",
       "</style>\n",
       "<table border=\"1\" class=\"dataframe\">\n",
       "  <thead>\n",
       "    <tr style=\"text-align: right;\">\n",
       "      <th></th>\n",
       "      <th>Volume</th>\n",
       "      <th>Total WIP(JUNE)</th>\n",
       "      <th>Reason</th>\n",
       "    </tr>\n",
       "  </thead>\n",
       "  <tbody>\n",
       "    <tr>\n",
       "      <th>0</th>\n",
       "      <td>100ml</td>\n",
       "      <td>330000</td>\n",
       "      <td>In process</td>\n",
       "    </tr>\n",
       "    <tr>\n",
       "      <th>1</th>\n",
       "      <td>300ml</td>\n",
       "      <td>3500</td>\n",
       "      <td>Printed  AL Film ( Art work)</td>\n",
       "    </tr>\n",
       "    <tr>\n",
       "      <th>2</th>\n",
       "      <td>500ml</td>\n",
       "      <td>11000</td>\n",
       "      <td>Euro Head</td>\n",
       "    </tr>\n",
       "    <tr>\n",
       "      <th>3</th>\n",
       "      <td>1Liter</td>\n",
       "      <td>11000</td>\n",
       "      <td>Euro Head</td>\n",
       "    </tr>\n",
       "    <tr>\n",
       "      <th>4</th>\n",
       "      <td>5ml</td>\n",
       "      <td>175000</td>\n",
       "      <td>Gentamycin E/D(56000 nos.) P.M not available</td>\n",
       "    </tr>\n",
       "    <tr>\n",
       "      <th>5</th>\n",
       "      <td>10ml</td>\n",
       "      <td>56000</td>\n",
       "      <td>Lubrin E/D P.M not available</td>\n",
       "    </tr>\n",
       "    <tr>\n",
       "      <th>6</th>\n",
       "      <td>2.0ml</td>\n",
       "      <td>700000</td>\n",
       "      <td>P.M not available (1 Batch) &amp; Loose Respules</td>\n",
       "    </tr>\n",
       "    <tr>\n",
       "      <th>7</th>\n",
       "      <td>2.5ml</td>\n",
       "      <td>300000</td>\n",
       "      <td>In process</td>\n",
       "    </tr>\n",
       "  </tbody>\n",
       "</table>\n",
       "</div>"
      ],
      "text/plain": [
       "   Volume  Total WIP(JUNE)                                        Reason\n",
       "0   100ml           330000                                    In process\n",
       "1   300ml             3500                  Printed  AL Film ( Art work)\n",
       "2   500ml            11000                                     Euro Head\n",
       "3  1Liter            11000                                     Euro Head\n",
       "4     5ml           175000  Gentamycin E/D(56000 nos.) P.M not available\n",
       "5    10ml            56000                  Lubrin E/D P.M not available\n",
       "6   2.0ml           700000  P.M not available (1 Batch) & Loose Respules\n",
       "7   2.5ml           300000                                    In process"
      ]
     },
     "metadata": {},
     "output_type": "display_data"
    }
   ],
   "source": [
    "WIP= pd.read_csv(\"dataset/WIP.csv\")\n",
    "display(WIP)"
   ]
  },
  {
   "cell_type": "code",
   "execution_count": 51,
   "id": "f44c106f",
   "metadata": {},
   "outputs": [
    {
     "data": {
      "text/html": [
       "<div>\n",
       "<style scoped>\n",
       "    .dataframe tbody tr th:only-of-type {\n",
       "        vertical-align: middle;\n",
       "    }\n",
       "\n",
       "    .dataframe tbody tr th {\n",
       "        vertical-align: top;\n",
       "    }\n",
       "\n",
       "    .dataframe thead th {\n",
       "        text-align: right;\n",
       "    }\n",
       "</style>\n",
       "<table border=\"1\" class=\"dataframe\">\n",
       "  <thead>\n",
       "    <tr style=\"text-align: right;\">\n",
       "      <th></th>\n",
       "      <th>Volume</th>\n",
       "      <th>Total_WIP(JUNE)</th>\n",
       "      <th>Reason</th>\n",
       "    </tr>\n",
       "  </thead>\n",
       "  <tbody>\n",
       "    <tr>\n",
       "      <th>0</th>\n",
       "      <td>100ml</td>\n",
       "      <td>330000</td>\n",
       "      <td>In process</td>\n",
       "    </tr>\n",
       "    <tr>\n",
       "      <th>1</th>\n",
       "      <td>300ml</td>\n",
       "      <td>3500</td>\n",
       "      <td>Printed  AL Film ( Art work)</td>\n",
       "    </tr>\n",
       "    <tr>\n",
       "      <th>2</th>\n",
       "      <td>500ml</td>\n",
       "      <td>11000</td>\n",
       "      <td>Euro Head</td>\n",
       "    </tr>\n",
       "    <tr>\n",
       "      <th>3</th>\n",
       "      <td>1Liter</td>\n",
       "      <td>11000</td>\n",
       "      <td>Euro Head</td>\n",
       "    </tr>\n",
       "    <tr>\n",
       "      <th>4</th>\n",
       "      <td>5ml</td>\n",
       "      <td>175000</td>\n",
       "      <td>Gentamycin E/D(56000 nos.) P.M not available</td>\n",
       "    </tr>\n",
       "    <tr>\n",
       "      <th>5</th>\n",
       "      <td>10ml</td>\n",
       "      <td>56000</td>\n",
       "      <td>Lubrin E/D P.M not available</td>\n",
       "    </tr>\n",
       "    <tr>\n",
       "      <th>6</th>\n",
       "      <td>2.0ml</td>\n",
       "      <td>700000</td>\n",
       "      <td>P.M not available (1 Batch) &amp; Loose Respules</td>\n",
       "    </tr>\n",
       "    <tr>\n",
       "      <th>7</th>\n",
       "      <td>2.5ml</td>\n",
       "      <td>300000</td>\n",
       "      <td>In process</td>\n",
       "    </tr>\n",
       "  </tbody>\n",
       "</table>\n",
       "</div>"
      ],
      "text/plain": [
       "   Volume  Total_WIP(JUNE)                                        Reason\n",
       "0   100ml           330000                                    In process\n",
       "1   300ml             3500                  Printed  AL Film ( Art work)\n",
       "2   500ml            11000                                     Euro Head\n",
       "3  1Liter            11000                                     Euro Head\n",
       "4     5ml           175000  Gentamycin E/D(56000 nos.) P.M not available\n",
       "5    10ml            56000                  Lubrin E/D P.M not available\n",
       "6   2.0ml           700000  P.M not available (1 Batch) & Loose Respules\n",
       "7   2.5ml           300000                                    In process"
      ]
     },
     "metadata": {},
     "output_type": "display_data"
    }
   ],
   "source": [
    "WIP.columns = WIP.columns.str.replace(' ','_')\n",
    "display(WIP)"
   ]
  },
  {
   "cell_type": "code",
   "execution_count": 57,
   "id": "643bccba",
   "metadata": {},
   "outputs": [
    {
     "data": {
      "text/plain": [
       "<AxesSubplot:xlabel='Volume'>"
      ]
     },
     "execution_count": 57,
     "metadata": {},
     "output_type": "execute_result"
    },
    {
     "data": {
      "image/png": "[encoded data removed]",
      "text/plain": [
       "<Figure size 1440x720 with 1 Axes>"
      ]
     },
     "metadata": {
      "needs_background": "light"
     },
     "output_type": "display_data"
    }
   ],
   "source": [
    "WIP.plot(x=\"Volume\", y=[\"Total_WIP(JUNE)\"],kind=\"bar\",ylim=[0,900000],figsize=(20,10),grid =True)"
   ]
  },
  {
   "cell_type": "markdown",
   "id": "6afaee9f",
   "metadata": {},
   "source": [
    "## 7) Productivity / Mandays Respule"
   ]
  },
  {
   "cell_type": "code",
   "execution_count": 15,
   "id": "71a64677",
   "metadata": {},
   "outputs": [
    {
     "data": {
      "text/html": [
       "<div>\n",
       "<style scoped>\n",
       "    .dataframe tbody tr th:only-of-type {\n",
       "        vertical-align: middle;\n",
       "    }\n",
       "\n",
       "    .dataframe tbody tr th {\n",
       "        vertical-align: top;\n",
       "    }\n",
       "\n",
       "    .dataframe thead th {\n",
       "        text-align: right;\n",
       "    }\n",
       "</style>\n",
       "<table border=\"1\" class=\"dataframe\">\n",
       "  <thead>\n",
       "    <tr style=\"text-align: right;\">\n",
       "      <th></th>\n",
       "      <th>M/C</th>\n",
       "      <th>Output</th>\n",
       "      <th>Manpower Consumed</th>\n",
       "      <th>Per Manpower Output</th>\n",
       "    </tr>\n",
       "  </thead>\n",
       "  <tbody>\n",
       "    <tr>\n",
       "      <th>0</th>\n",
       "      <td>360 (100ml)</td>\n",
       "      <td>NaN</td>\n",
       "      <td>NaN</td>\n",
       "      <td>NaN</td>\n",
       "    </tr>\n",
       "    <tr>\n",
       "      <th>1</th>\n",
       "      <td>360 (100ml) with carton</td>\n",
       "      <td>36401.0</td>\n",
       "      <td>32.0</td>\n",
       "      <td>1138.0</td>\n",
       "    </tr>\n",
       "    <tr>\n",
       "      <th>2</th>\n",
       "      <td>360 (300ml)</td>\n",
       "      <td>101674.0</td>\n",
       "      <td>123.0</td>\n",
       "      <td>827.0</td>\n",
       "    </tr>\n",
       "    <tr>\n",
       "      <th>3</th>\n",
       "      <td>360 (500ml)</td>\n",
       "      <td>2222710.0</td>\n",
       "      <td>1339.0</td>\n",
       "      <td>1660.0</td>\n",
       "    </tr>\n",
       "    <tr>\n",
       "      <th>4</th>\n",
       "      <td>305 (2.0/2.5ml)</td>\n",
       "      <td>5131310.0</td>\n",
       "      <td>329.0</td>\n",
       "      <td>15597.0</td>\n",
       "    </tr>\n",
       "    <tr>\n",
       "      <th>5</th>\n",
       "      <td>305(5ml)</td>\n",
       "      <td>NaN</td>\n",
       "      <td>NaN</td>\n",
       "      <td>NaN</td>\n",
       "    </tr>\n",
       "    <tr>\n",
       "      <th>6</th>\n",
       "      <td>305(10ml)</td>\n",
       "      <td>NaN</td>\n",
       "      <td>NaN</td>\n",
       "      <td>NaN</td>\n",
       "    </tr>\n",
       "    <tr>\n",
       "      <th>7</th>\n",
       "      <td>3012(2.0ml)</td>\n",
       "      <td>NaN</td>\n",
       "      <td>NaN</td>\n",
       "      <td>NaN</td>\n",
       "    </tr>\n",
       "    <tr>\n",
       "      <th>8</th>\n",
       "      <td>3012(2.5ml)</td>\n",
       "      <td>NaN</td>\n",
       "      <td>NaN</td>\n",
       "      <td>NaN</td>\n",
       "    </tr>\n",
       "    <tr>\n",
       "      <th>9</th>\n",
       "      <td>3012(5.0/10ml)</td>\n",
       "      <td>643525.0</td>\n",
       "      <td>160.0</td>\n",
       "      <td>4022.0</td>\n",
       "    </tr>\n",
       "    <tr>\n",
       "      <th>10</th>\n",
       "      <td>WFI(10ml)</td>\n",
       "      <td>701800.0</td>\n",
       "      <td>149.0</td>\n",
       "      <td>4710.0</td>\n",
       "    </tr>\n",
       "  </tbody>\n",
       "</table>\n",
       "</div>"
      ],
      "text/plain": [
       "                        M/C     Output  Manpower Consumed  Per Manpower Output\n",
       "0               360 (100ml)        NaN                NaN                  NaN\n",
       "1   360 (100ml) with carton    36401.0               32.0               1138.0\n",
       "2               360 (300ml)   101674.0              123.0                827.0\n",
       "3               360 (500ml)  2222710.0             1339.0               1660.0\n",
       "4           305 (2.0/2.5ml)  5131310.0              329.0              15597.0\n",
       "5                  305(5ml)        NaN                NaN                  NaN\n",
       "6                 305(10ml)        NaN                NaN                  NaN\n",
       "7               3012(2.0ml)        NaN                NaN                  NaN\n",
       "8               3012(2.5ml)        NaN                NaN                  NaN\n",
       "9            3012(5.0/10ml)   643525.0              160.0               4022.0\n",
       "10                WFI(10ml)   701800.0              149.0               4710.0"
      ]
     },
     "metadata": {},
     "output_type": "display_data"
    }
   ],
   "source": [
    "productivity_respule= pd.read_csv(\"dataset/productivity(respule).csv\")\n",
    "display(productivity_respule)"
   ]
  },
  {
   "cell_type": "code",
   "execution_count": 16,
   "id": "d726e0d8",
   "metadata": {},
   "outputs": [
    {
     "data": {
      "text/html": [
       "<div>\n",
       "<style scoped>\n",
       "    .dataframe tbody tr th:only-of-type {\n",
       "        vertical-align: middle;\n",
       "    }\n",
       "\n",
       "    .dataframe tbody tr th {\n",
       "        vertical-align: top;\n",
       "    }\n",
       "\n",
       "    .dataframe thead th {\n",
       "        text-align: right;\n",
       "    }\n",
       "</style>\n",
       "<table border=\"1\" class=\"dataframe\">\n",
       "  <thead>\n",
       "    <tr style=\"text-align: right;\">\n",
       "      <th></th>\n",
       "      <th>M/C</th>\n",
       "      <th>Output</th>\n",
       "      <th>Manpower_Consumed</th>\n",
       "      <th>Per_Manpower_Output</th>\n",
       "    </tr>\n",
       "  </thead>\n",
       "  <tbody>\n",
       "    <tr>\n",
       "      <th>0</th>\n",
       "      <td>360 (100ml)</td>\n",
       "      <td>NaN</td>\n",
       "      <td>NaN</td>\n",
       "      <td>NaN</td>\n",
       "    </tr>\n",
       "    <tr>\n",
       "      <th>1</th>\n",
       "      <td>360 (100ml) with carton</td>\n",
       "      <td>36401.0</td>\n",
       "      <td>32.0</td>\n",
       "      <td>1138.0</td>\n",
       "    </tr>\n",
       "    <tr>\n",
       "      <th>2</th>\n",
       "      <td>360 (300ml)</td>\n",
       "      <td>101674.0</td>\n",
       "      <td>123.0</td>\n",
       "      <td>827.0</td>\n",
       "    </tr>\n",
       "    <tr>\n",
       "      <th>3</th>\n",
       "      <td>360 (500ml)</td>\n",
       "      <td>2222710.0</td>\n",
       "      <td>1339.0</td>\n",
       "      <td>1660.0</td>\n",
       "    </tr>\n",
       "    <tr>\n",
       "      <th>4</th>\n",
       "      <td>305 (2.0/2.5ml)</td>\n",
       "      <td>5131310.0</td>\n",
       "      <td>329.0</td>\n",
       "      <td>15597.0</td>\n",
       "    </tr>\n",
       "    <tr>\n",
       "      <th>5</th>\n",
       "      <td>305(5ml)</td>\n",
       "      <td>NaN</td>\n",
       "      <td>NaN</td>\n",
       "      <td>NaN</td>\n",
       "    </tr>\n",
       "    <tr>\n",
       "      <th>6</th>\n",
       "      <td>305(10ml)</td>\n",
       "      <td>NaN</td>\n",
       "      <td>NaN</td>\n",
       "      <td>NaN</td>\n",
       "    </tr>\n",
       "    <tr>\n",
       "      <th>7</th>\n",
       "      <td>3012(2.0ml)</td>\n",
       "      <td>NaN</td>\n",
       "      <td>NaN</td>\n",
       "      <td>NaN</td>\n",
       "    </tr>\n",
       "    <tr>\n",
       "      <th>8</th>\n",
       "      <td>3012(2.5ml)</td>\n",
       "      <td>NaN</td>\n",
       "      <td>NaN</td>\n",
       "      <td>NaN</td>\n",
       "    </tr>\n",
       "    <tr>\n",
       "      <th>9</th>\n",
       "      <td>3012(5.0/10ml)</td>\n",
       "      <td>643525.0</td>\n",
       "      <td>160.0</td>\n",
       "      <td>4022.0</td>\n",
       "    </tr>\n",
       "    <tr>\n",
       "      <th>10</th>\n",
       "      <td>WFI(10ml)</td>\n",
       "      <td>701800.0</td>\n",
       "      <td>149.0</td>\n",
       "      <td>4710.0</td>\n",
       "    </tr>\n",
       "  </tbody>\n",
       "</table>\n",
       "</div>"
      ],
      "text/plain": [
       "                        M/C     Output  Manpower_Consumed  Per_Manpower_Output\n",
       "0               360 (100ml)        NaN                NaN                  NaN\n",
       "1   360 (100ml) with carton    36401.0               32.0               1138.0\n",
       "2               360 (300ml)   101674.0              123.0                827.0\n",
       "3               360 (500ml)  2222710.0             1339.0               1660.0\n",
       "4           305 (2.0/2.5ml)  5131310.0              329.0              15597.0\n",
       "5                  305(5ml)        NaN                NaN                  NaN\n",
       "6                 305(10ml)        NaN                NaN                  NaN\n",
       "7               3012(2.0ml)        NaN                NaN                  NaN\n",
       "8               3012(2.5ml)        NaN                NaN                  NaN\n",
       "9            3012(5.0/10ml)   643525.0              160.0               4022.0\n",
       "10                WFI(10ml)   701800.0              149.0               4710.0"
      ]
     },
     "metadata": {},
     "output_type": "display_data"
    }
   ],
   "source": [
    "productivity_respule.columns = productivity_respule.columns.str.replace(' ','_')\n",
    "display(productivity_respule)"
   ]
  },
  {
   "cell_type": "code",
   "execution_count": 22,
   "id": "b71b9328",
   "metadata": {},
   "outputs": [
    {
     "data": {
      "text/plain": [
       "<AxesSubplot:xlabel='M/C'>"
      ]
     },
     "execution_count": 22,
     "metadata": {},
     "output_type": "execute_result"
    },
    {
     "data": {
      "image/png": "[encoded data removed]",
      "text/plain": [
       "<Figure size 1440x720 with 1 Axes>"
      ]
     },
     "metadata": {
      "needs_background": "light"
     },
     "output_type": "display_data"
    }
   ],
   "source": [
    "productivity_respule.plot(x=\"M/C\", y=[\"Output\"],kind=\"bar\",ylim=[0,6000000],figsize=(20,10),grid =True)"
   ]
  },
  {
   "cell_type": "markdown",
   "id": "6d8102df",
   "metadata": {},
   "source": [
    "### Manpower Consumed"
   ]
  },
  {
   "cell_type": "code",
   "execution_count": 23,
   "id": "874fda1c",
   "metadata": {},
   "outputs": [
    {
     "data": {
      "text/plain": [
       "<AxesSubplot:xlabel='M/C'>"
      ]
     },
     "execution_count": 23,
     "metadata": {},
     "output_type": "execute_result"
    },
    {
     "data": {
      "image/png": "[encoded data removed]",
      "text/plain": [
       "<Figure size 1440x720 with 1 Axes>"
      ]
     },
     "metadata": {
      "needs_background": "light"
     },
     "output_type": "display_data"
    }
   ],
   "source": [
    "productivity_respule.plot(x=\"M/C\", y=[\"Manpower_Consumed\"],kind=\"bar\",ylim=[0,1500],figsize=(20,10),grid =True)"
   ]
  },
  {
   "cell_type": "markdown",
   "id": "a4bedc8c",
   "metadata": {},
   "source": [
    "## 7) Productivity / Mandays Glucose"
   ]
  },
  {
   "cell_type": "code",
   "execution_count": 19,
   "id": "576f6466",
   "metadata": {},
   "outputs": [
    {
     "data": {
      "text/html": [
       "<div>\n",
       "<style scoped>\n",
       "    .dataframe tbody tr th:only-of-type {\n",
       "        vertical-align: middle;\n",
       "    }\n",
       "\n",
       "    .dataframe tbody tr th {\n",
       "        vertical-align: top;\n",
       "    }\n",
       "\n",
       "    .dataframe thead th {\n",
       "        text-align: right;\n",
       "    }\n",
       "</style>\n",
       "<table border=\"1\" class=\"dataframe\">\n",
       "  <thead>\n",
       "    <tr style=\"text-align: right;\">\n",
       "      <th></th>\n",
       "      <th>M/C</th>\n",
       "      <th>Output</th>\n",
       "      <th>Manpower Consumed</th>\n",
       "      <th>Per Manpower Output</th>\n",
       "    </tr>\n",
       "  </thead>\n",
       "  <tbody>\n",
       "    <tr>\n",
       "      <th>0</th>\n",
       "      <td>303A (100ml)</td>\n",
       "      <td>200300.0</td>\n",
       "      <td>90.0</td>\n",
       "      <td>2225.0</td>\n",
       "    </tr>\n",
       "    <tr>\n",
       "      <th>1</th>\n",
       "      <td>303A (100ml) with carton</td>\n",
       "      <td>18000.0</td>\n",
       "      <td>17.0</td>\n",
       "      <td>1059.0</td>\n",
       "    </tr>\n",
       "    <tr>\n",
       "      <th>2</th>\n",
       "      <td>303A (100ml)with carton CP-120 M/C</td>\n",
       "      <td>1368787.0</td>\n",
       "      <td>760.0</td>\n",
       "      <td>1801.0</td>\n",
       "    </tr>\n",
       "    <tr>\n",
       "      <th>3</th>\n",
       "      <td>303B (250ml)</td>\n",
       "      <td>NaN</td>\n",
       "      <td>NaN</td>\n",
       "      <td>NaN</td>\n",
       "    </tr>\n",
       "    <tr>\n",
       "      <th>4</th>\n",
       "      <td>303B (300ml)</td>\n",
       "      <td>6900.0</td>\n",
       "      <td>12.0</td>\n",
       "      <td>575.0</td>\n",
       "    </tr>\n",
       "    <tr>\n",
       "      <th>5</th>\n",
       "      <td>303B (500ml)</td>\n",
       "      <td>114550.0</td>\n",
       "      <td>75.0</td>\n",
       "      <td>1527.0</td>\n",
       "    </tr>\n",
       "    <tr>\n",
       "      <th>6</th>\n",
       "      <td>303B (1000ml)</td>\n",
       "      <td>359178.0</td>\n",
       "      <td>380.0</td>\n",
       "      <td>945.0</td>\n",
       "    </tr>\n",
       "  </tbody>\n",
       "</table>\n",
       "</div>"
      ],
      "text/plain": [
       "                                  M/C     Output  Manpower Consumed  \\\n",
       "0                        303A (100ml)   200300.0               90.0   \n",
       "1            303A (100ml) with carton    18000.0               17.0   \n",
       "2  303A (100ml)with carton CP-120 M/C  1368787.0              760.0   \n",
       "3                        303B (250ml)        NaN                NaN   \n",
       "4                        303B (300ml)     6900.0               12.0   \n",
       "5                        303B (500ml)   114550.0               75.0   \n",
       "6                       303B (1000ml)   359178.0              380.0   \n",
       "\n",
       "   Per Manpower Output  \n",
       "0               2225.0  \n",
       "1               1059.0  \n",
       "2               1801.0  \n",
       "3                  NaN  \n",
       "4                575.0  \n",
       "5               1527.0  \n",
       "6                945.0  "
      ]
     },
     "metadata": {},
     "output_type": "display_data"
    }
   ],
   "source": [
    "productivity_glucose= pd.read_csv(\"dataset/productivity(glucose).csv\")\n",
    "display(productivity_glucose)"
   ]
  },
  {
   "cell_type": "code",
   "execution_count": 20,
   "id": "21ebf328",
   "metadata": {},
   "outputs": [
    {
     "data": {
      "text/html": [
       "<div>\n",
       "<style scoped>\n",
       "    .dataframe tbody tr th:only-of-type {\n",
       "        vertical-align: middle;\n",
       "    }\n",
       "\n",
       "    .dataframe tbody tr th {\n",
       "        vertical-align: top;\n",
       "    }\n",
       "\n",
       "    .dataframe thead th {\n",
       "        text-align: right;\n",
       "    }\n",
       "</style>\n",
       "<table border=\"1\" class=\"dataframe\">\n",
       "  <thead>\n",
       "    <tr style=\"text-align: right;\">\n",
       "      <th></th>\n",
       "      <th>M/C</th>\n",
       "      <th>Output</th>\n",
       "      <th>Manpower_Consumed</th>\n",
       "      <th>Per_Manpower_Output</th>\n",
       "    </tr>\n",
       "  </thead>\n",
       "  <tbody>\n",
       "    <tr>\n",
       "      <th>0</th>\n",
       "      <td>303A (100ml)</td>\n",
       "      <td>200300.0</td>\n",
       "      <td>90.0</td>\n",
       "      <td>2225.0</td>\n",
       "    </tr>\n",
       "    <tr>\n",
       "      <th>1</th>\n",
       "      <td>303A (100ml) with carton</td>\n",
       "      <td>18000.0</td>\n",
       "      <td>17.0</td>\n",
       "      <td>1059.0</td>\n",
       "    </tr>\n",
       "    <tr>\n",
       "      <th>2</th>\n",
       "      <td>303A (100ml)with carton CP-120 M/C</td>\n",
       "      <td>1368787.0</td>\n",
       "      <td>760.0</td>\n",
       "      <td>1801.0</td>\n",
       "    </tr>\n",
       "    <tr>\n",
       "      <th>3</th>\n",
       "      <td>303B (250ml)</td>\n",
       "      <td>NaN</td>\n",
       "      <td>NaN</td>\n",
       "      <td>NaN</td>\n",
       "    </tr>\n",
       "    <tr>\n",
       "      <th>4</th>\n",
       "      <td>303B (300ml)</td>\n",
       "      <td>6900.0</td>\n",
       "      <td>12.0</td>\n",
       "      <td>575.0</td>\n",
       "    </tr>\n",
       "    <tr>\n",
       "      <th>5</th>\n",
       "      <td>303B (500ml)</td>\n",
       "      <td>114550.0</td>\n",
       "      <td>75.0</td>\n",
       "      <td>1527.0</td>\n",
       "    </tr>\n",
       "    <tr>\n",
       "      <th>6</th>\n",
       "      <td>303B (1000ml)</td>\n",
       "      <td>359178.0</td>\n",
       "      <td>380.0</td>\n",
       "      <td>945.0</td>\n",
       "    </tr>\n",
       "  </tbody>\n",
       "</table>\n",
       "</div>"
      ],
      "text/plain": [
       "                                  M/C     Output  Manpower_Consumed  \\\n",
       "0                        303A (100ml)   200300.0               90.0   \n",
       "1            303A (100ml) with carton    18000.0               17.0   \n",
       "2  303A (100ml)with carton CP-120 M/C  1368787.0              760.0   \n",
       "3                        303B (250ml)        NaN                NaN   \n",
       "4                        303B (300ml)     6900.0               12.0   \n",
       "5                        303B (500ml)   114550.0               75.0   \n",
       "6                       303B (1000ml)   359178.0              380.0   \n",
       "\n",
       "   Per_Manpower_Output  \n",
       "0               2225.0  \n",
       "1               1059.0  \n",
       "2               1801.0  \n",
       "3                  NaN  \n",
       "4                575.0  \n",
       "5               1527.0  \n",
       "6                945.0  "
      ]
     },
     "metadata": {},
     "output_type": "display_data"
    }
   ],
   "source": [
    "productivity_glucose.columns = productivity_glucose.columns.str.replace(' ','_')\n",
    "display(productivity_glucose)"
   ]
  },
  {
   "cell_type": "code",
   "execution_count": 25,
   "id": "1005f6ad",
   "metadata": {},
   "outputs": [
    {
     "data": {
      "text/plain": [
       "<AxesSubplot:xlabel='M/C'>"
      ]
     },
     "execution_count": 25,
     "metadata": {},
     "output_type": "execute_result"
    },
    {
     "data": {
      "image/png": "[encoded data removed]",
      "text/plain": [
       "<Figure size 1440x720 with 1 Axes>"
      ]
     },
     "metadata": {
      "needs_background": "light"
     },
     "output_type": "display_data"
    }
   ],
   "source": [
    "productivity_glucose.plot(x=\"M/C\", y=[\"Output\"],kind=\"bar\",ylim=[0,1500000],figsize=(20,10),grid =True)"
   ]
  },
  {
   "cell_type": "markdown",
   "id": "72d48ce2",
   "metadata": {},
   "source": [
    "### Manpower consumed"
   ]
  },
  {
   "cell_type": "code",
   "execution_count": 28,
   "id": "37d65c85",
   "metadata": {
    "scrolled": true
   },
   "outputs": [
    {
     "data": {
      "text/plain": [
       "<AxesSubplot:xlabel='M/C'>"
      ]
     },
     "execution_count": 28,
     "metadata": {},
     "output_type": "execute_result"
    },
    {
     "data": {
      "image/png": "[encoded data removed]",
      "text/plain": [
       "<Figure size 1440x720 with 1 Axes>"
      ]
     },
     "metadata": {
      "needs_background": "light"
     },
     "output_type": "display_data"
    }
   ],
   "source": [
    "productivity_glucose.plot(x=\"M/C\", y=[\"Manpower_Consumed\"],kind=\"bar\",ylim=[0,1000],figsize=(20,10),grid =True)"
   ]
  },
  {
   "cell_type": "markdown",
   "id": "747183ca",
   "metadata": {},
   "source": [
    "# 8) Challenges Being Faced\n"
   ]
  },
  {
   "cell_type": "markdown",
   "id": "802fb375",
   "metadata": {},
   "source": [
    "1) Frequently new manpower coming in packing and as well as in production in night shift\n",
    "\n",
    "2) sleeper quantity is short workers are wearing their own sleepers inside\n",
    "\n",
    "3) Shortage of Technical Staff for last 2 months\n",
    "\n",
    "4) Workers not following the Covid Protocols\n",
    "\n",
    "\n"
   ]
  },
  {
   "cell_type": "markdown",
   "id": "165c9a4f",
   "metadata": {},
   "source": [
    "# 9) Department Achievements this month"
   ]
  },
  {
   "cell_type": "markdown",
   "id": "ebdb0b60",
   "metadata": {},
   "source": [
    "1) Successfully filled commercial batch of Bepotastine Basilate 1.5%  eye drop\n",
    "\n",
    "2) Ethiopia Audit pass successfully.\n",
    "\n",
    "\n"
   ]
  },
  {
   "cell_type": "markdown",
   "id": "046c0864",
   "metadata": {},
   "source": [
    "# 10) Plan for next month"
   ]
  },
  {
   "cell_type": "markdown",
   "id": "fd835a2e",
   "metadata": {},
   "source": [
    "1) Trial of Ibuprofen I.V to be taken.\n",
    "\n",
    "2) Trial of Latenoprost E/D to be taken\n",
    "\n",
    "3) Trial of Zoledronic acid to be taken\n",
    "\n",
    "4) Periodic SOP revision.\n",
    "\n",
    "5) Schedule Training"
   ]
  },
  {
   "cell_type": "code",
   "execution_count": null,
   "id": "53c3f0ec",
   "metadata": {},
   "outputs": [],
   "source": []
  }
 ],
 "metadata": {
  "celltoolbar": "Raw Cell Format",
  "kernelspec": {
   "display_name": "Python 3",
   "language": "python",
   "name": "python3"
  },
  "language_info": {
   "codemirror_mode": {
    "name": "ipython",
    "version": 3
   },
   "file_extension": ".py",
   "mimetype": "text/x-python",
   "name": "python",
   "nbconvert_exporter": "python",
   "pygments_lexer": "ipython3",
   "version": "3.9.5"
  }
 },
 "nbformat": 4,
 "nbformat_minor": 5
}
